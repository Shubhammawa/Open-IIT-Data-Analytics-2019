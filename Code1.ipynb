{
 "cells": [
  {
   "cell_type": "code",
   "execution_count": 202,
   "metadata": {},
   "outputs": [],
   "source": [
    "import numpy as np\n",
    "import pandas as pd\n",
    "from sklearn.preprocessing import OneHotEncoder\n",
    "from sklearn.preprocessing import LabelEncoder\n",
    "from sklearn.model_selection import train_test_split"
   ]
  },
  {
   "cell_type": "code",
   "execution_count": 149,
   "metadata": {},
   "outputs": [],
   "source": [
    "Data = pd.read_csv(\"Insurance_Marketing-Customer-Value-Analysis (1).csv\").values"
   ]
  },
  {
   "cell_type": "code",
   "execution_count": 150,
   "metadata": {},
   "outputs": [
    {
     "name": "stdout",
     "output_type": "stream",
     "text": [
      "(9134, 24)\n"
     ]
    }
   ],
   "source": [
    "print(Data.shape)"
   ]
  },
  {
   "cell_type": "code",
   "execution_count": 151,
   "metadata": {},
   "outputs": [
    {
     "name": "stdout",
     "output_type": "stream",
     "text": [
      "[['BU79786' 'Washington' 2763.519279 'No' 'Basic' 'Bachelor' '2/24/2011'\n",
      "  'Employed' 'F' 56274 'Suburban' 'Married' 69 32 5 0 1 'Corporate Auto'\n",
      "  'Corporate L3' 'Offer1' 'Agent' 384.811147 'Two-Door Car' 'Medsize']\n",
      " ['QZ44356' 'Arizona' 6979.535903 'No' 'Extended' 'Bachelor' '1/31/2011'\n",
      "  'Unemployed' 'F' 0 'Suburban' 'Single' 94 13 42 0 8 'Personal Auto'\n",
      "  'Personal L3' 'Offer3' 'Agent' 1131.464935 'Four-Door Car' 'Medsize']]\n"
     ]
    }
   ],
   "source": [
    "print(Data[0:2,:])"
   ]
  },
  {
   "cell_type": "code",
   "execution_count": 152,
   "metadata": {},
   "outputs": [],
   "source": [
    "X = np.concatenate((Data[:,0:2],Data[:,3:]),axis = 1)\n",
    "Y = Data[:,2]"
   ]
  },
  {
   "cell_type": "code",
   "execution_count": 153,
   "metadata": {},
   "outputs": [
    {
     "name": "stdout",
     "output_type": "stream",
     "text": [
      "['BU79786' 'Washington' 'No' 'Basic' 'Bachelor' '2/24/2011' 'Employed' 'F'\n",
      " 56274 'Suburban' 'Married' 69 32 5 0 1 'Corporate Auto' 'Corporate L3'\n",
      " 'Offer1' 'Agent' 384.811147 'Two-Door Car' 'Medsize']\n"
     ]
    }
   ],
   "source": [
    "print(X[0])"
   ]
  },
  {
   "cell_type": "code",
   "execution_count": 154,
   "metadata": {},
   "outputs": [
    {
     "name": "stdout",
     "output_type": "stream",
     "text": [
      "[2763.519279 6979.535903 12887.43165 ... 8163.890428 7524.442436\n",
      " 2611.836866]\n"
     ]
    }
   ],
   "source": [
    "print(Y)"
   ]
  },
  {
   "cell_type": "code",
   "execution_count": 194,
   "metadata": {},
   "outputs": [
    {
     "name": "stdout",
     "output_type": "stream",
     "text": [
      "['Washington' 'Arizona' 'Nevada' ... 'California' 'California'\n",
      " 'California']\n",
      "(9134, 14)\n",
      "9134\n"
     ]
    }
   ],
   "source": [
    "X_cat = X[:,[1,2,3,4,6,7,9,10,16,17,18,19,21,22]]\n",
    "print(X_cat[:,0])\n",
    "print(X_cat.shape)\n",
    "print(len(X_cat))"
   ]
  },
  {
   "cell_type": "code",
   "execution_count": 195,
   "metadata": {},
   "outputs": [
    {
     "name": "stdout",
     "output_type": "stream",
     "text": [
      "['Arizona' 'California' 'Nevada' 'Oregon' 'Washington']\n",
      "(9134,)\n",
      "1\n",
      "['No' 'Yes']\n",
      "2\n",
      "['Basic' 'Extended' 'Premium']\n",
      "3\n",
      "['Bachelor' 'College' 'Doctor' 'High School or Below' 'Master']\n",
      "4\n",
      "['Disabled' 'Employed' 'Medical Leave' 'Retired' 'Unemployed']\n",
      "5\n",
      "['F' 'M']\n",
      "6\n",
      "['Rural' 'Suburban' 'Urban']\n",
      "7\n",
      "['Divorced' 'Married' 'Single']\n",
      "8\n",
      "['Corporate Auto' 'Personal Auto' 'Special Auto']\n",
      "9\n",
      "['Corporate L1' 'Corporate L2' 'Corporate L3' 'Personal L1' 'Personal L2'\n",
      " 'Personal L3' 'Special L1' 'Special L2' 'Special L3']\n",
      "10\n",
      "['Offer1' 'Offer2' 'Offer3' 'Offer4']\n",
      "11\n",
      "['Agent' 'Branch' 'Call Center' 'Web']\n",
      "12\n",
      "['Four-Door Car' 'Luxury Car' 'Luxury SUV' 'SUV' 'Sports Car'\n",
      " 'Two-Door Car']\n",
      "13\n",
      "['Large' 'Medsize' 'Small']\n"
     ]
    }
   ],
   "source": [
    "enc1 = LabelEncoder()\n",
    "X_cat_t = enc1.fit_transform(X_cat[:,0])\n",
    "print(enc1.classes_)\n",
    "print(X_cat_t.shape)\n",
    "for i in range(1,14):\n",
    "    print(i)\n",
    "    enc1 = LabelEncoder()\n",
    "    X_cat_t = np.vstack((X_cat_t,enc1.fit_transform(X_cat[:,i])))\n",
    "    print(enc1.classes_)"
   ]
  },
  {
   "cell_type": "code",
   "execution_count": 157,
   "metadata": {},
   "outputs": [
    {
     "name": "stdout",
     "output_type": "stream",
     "text": [
      "(14, 9134)\n"
     ]
    }
   ],
   "source": [
    "print(X_cat_t.shape)"
   ]
  },
  {
   "cell_type": "code",
   "execution_count": 158,
   "metadata": {},
   "outputs": [
    {
     "name": "stdout",
     "output_type": "stream",
     "text": [
      "[[4 0 2 1 4 3 3 0 3 3 1 1 1 0 1 3 2 1 3 1]\n",
      " [0 0 0 0 0 1 1 0 1 0 0 0 0 1 0 0 0 0 0 0]\n",
      " [0 1 2 0 0 0 0 2 0 1 0 0 2 0 0 0 0 0 0 2]\n",
      " [0 0 0 0 0 0 1 4 0 1 1 1 4 3 1 0 3 1 1 3]\n",
      " [1 4 1 4 1 1 1 4 2 1 4 4 1 1 1 1 2 2 1 1]\n",
      " [0 0 0 1 1 0 0 1 1 0 1 0 1 1 1 0 1 1 1 0]\n",
      " [1 1 1 1 0 0 1 2 1 2 1 1 2 1 2 0 1 1 2 1]\n",
      " [1 2 1 1 2 1 1 2 0 1 2 1 1 1 2 1 1 1 1 1]\n",
      " [0 1 1 0 1 1 0 0 0 2 1 1 0 0 0 0 1 1 1 0]\n",
      " [2 5 5 1 3 5 2 2 2 7 5 5 0 2 2 1 5 4 4 1]\n",
      " [0 2 0 0 0 1 0 0 0 1 0 1 1 1 3 1 1 2 1 0]\n",
      " [0 0 0 2 0 3 0 0 0 1 0 0 0 1 2 1 2 2 1 2]\n",
      " [5 0 5 3 0 5 0 0 0 0 0 3 0 3 0 0 5 3 0 0]\n",
      " [1 1 1 1 1 1 1 1 1 1 2 1 1 1 1 1 1 1 1 2]]\n"
     ]
    }
   ],
   "source": [
    "print(X_cat_t[0:14,0:20])"
   ]
  },
  {
   "cell_type": "code",
   "execution_count": 173,
   "metadata": {},
   "outputs": [
    {
     "name": "stdout",
     "output_type": "stream",
     "text": [
      "(9134, 14)\n",
      "[4 0 0 0 1 0 1 1 0 2 0 0 5 1]\n"
     ]
    }
   ],
   "source": [
    "X_cat = np.transpose(X_cat_t)\n",
    "print(X_cat.shape)\n",
    "print(X_cat[0])"
   ]
  },
  {
   "cell_type": "code",
   "execution_count": 181,
   "metadata": {},
   "outputs": [
    {
     "name": "stdout",
     "output_type": "stream",
     "text": [
      "<class 'numpy.ndarray'>\n",
      "[0 0 0 1 0]\n"
     ]
    }
   ],
   "source": [
    "# enc = OneHotEncoder()\n",
    "# X_cat_one_hot = enc.fit_transform(X_cat)\n",
    "X_trial = np.array(pd.get_dummies(X_cat[0]))\n",
    "print(type(X_trial))\n",
    "print(X_trial[0])"
   ]
  },
  {
   "cell_type": "code",
   "execution_count": 196,
   "metadata": {},
   "outputs": [],
   "source": [
    "X_cat_one_hot = np.concatenate([np.array(pd.get_dummies(X_cat[:,0])),\n",
    "                                np.array(pd.get_dummies(X_cat[:,1])),\n",
    "                                np.array(pd.get_dummies(X_cat[:,2])),\n",
    "                                np.array(pd.get_dummies(X_cat[:,3])),\n",
    "                                np.array(pd.get_dummies(X_cat[:,4])),\n",
    "                                np.array(pd.get_dummies(X_cat[:,5])),\n",
    "                                np.array(pd.get_dummies(X_cat[:,6])),\n",
    "                                np.array(pd.get_dummies(X_cat[:,7])),\n",
    "                                np.array(pd.get_dummies(X_cat[:,8])),\n",
    "                                np.array(pd.get_dummies(X_cat[:,9])),\n",
    "                                np.array(pd.get_dummies(X_cat[:,10])),\n",
    "                                np.array(pd.get_dummies(X_cat[:,11])),\n",
    "                                np.array(pd.get_dummies(X_cat[:,12])),\n",
    "                                np.array(pd.get_dummies(X_cat[:,13])),],axis = 1)"
   ]
  },
  {
   "cell_type": "code",
   "execution_count": 197,
   "metadata": {},
   "outputs": [
    {
     "name": "stdout",
     "output_type": "stream",
     "text": [
      "(9134, 57)\n",
      "[0 0 0 0 1 1 0 1 0 0 1 0 0 0 0 0 1 0 0 0 1 0 0 1 0 0 1 0 1 0 0 0 0 1 0 0 0\n",
      " 0 0 0 1 0 0 0 1 0 0 0 0 0 0 0 0 1 0 1 0]\n"
     ]
    }
   ],
   "source": [
    "print(X_cat_one_hot.shape)\n",
    "print(X_cat_one_hot[0])\n",
    "#np.savetxt(\"X_categorical.csv\",X_cat_one_hot, delimiter = \",\")"
   ]
  },
  {
   "cell_type": "code",
   "execution_count": 198,
   "metadata": {},
   "outputs": [
    {
     "name": "stdout",
     "output_type": "stream",
     "text": [
      "(9134, 7)\n",
      "(9134, 57)\n"
     ]
    }
   ],
   "source": [
    "X_numerical = X[:,[8,11,12,13,14,15,20]]\n",
    "print(X_numerical.shape)\n",
    "print(X_cat_one_hot.shape)"
   ]
  },
  {
   "cell_type": "code",
   "execution_count": 199,
   "metadata": {},
   "outputs": [],
   "source": [
    "X = np.concatenate((X_numerical,X_cat_one_hot),axis = 1)"
   ]
  },
  {
   "cell_type": "code",
   "execution_count": 201,
   "metadata": {},
   "outputs": [
    {
     "name": "stdout",
     "output_type": "stream",
     "text": [
      "(9134, 64)\n",
      "(9134,)\n"
     ]
    }
   ],
   "source": [
    "print(X.shape)\n",
    "print(Y.shape)"
   ]
  },
  {
   "cell_type": "code",
   "execution_count": 203,
   "metadata": {},
   "outputs": [],
   "source": [
    "X_train, X_test, Y_train, Y_test = train_test_split(X, Y, test_size=0.33, random_state=42)"
   ]
  },
  {
   "cell_type": "code",
   "execution_count": 205,
   "metadata": {},
   "outputs": [
    {
     "name": "stdout",
     "output_type": "stream",
     "text": [
      "(6119, 64) (3015, 64)\n",
      "(6119,) (3015,)\n"
     ]
    }
   ],
   "source": [
    "print(X_train.shape, X_test.shape)\n",
    "print(Y_train.shape, Y_test.shape)"
   ]
  },
  {
   "cell_type": "code",
   "execution_count": null,
   "metadata": {},
   "outputs": [],
   "source": []
  }
 ],
 "metadata": {
  "kernelspec": {
   "display_name": "Python 3",
   "language": "python",
   "name": "python3"
  },
  "language_info": {
   "codemirror_mode": {
    "name": "ipython",
    "version": 3
   },
   "file_extension": ".py",
   "mimetype": "text/x-python",
   "name": "python",
   "nbconvert_exporter": "python",
   "pygments_lexer": "ipython3",
   "version": "3.5.2"
  }
 },
 "nbformat": 4,
 "nbformat_minor": 2
}
