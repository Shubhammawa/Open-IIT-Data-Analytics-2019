{
 "cells": [
  {
   "cell_type": "code",
   "execution_count": 32,
   "metadata": {},
   "outputs": [],
   "source": [
    "import numpy as np\n",
    "import pandas as pd\n",
    "from sklearn.preprocessing import OneHotEncoder\n",
    "from sklearn.preprocessing import LabelEncoder"
   ]
  },
  {
   "cell_type": "code",
   "execution_count": 2,
   "metadata": {},
   "outputs": [],
   "source": [
    "Data = pd.read_csv(\"Insurance_Marketing-Customer-Value-Analysis (1).csv\").values"
   ]
  },
  {
   "cell_type": "code",
   "execution_count": 3,
   "metadata": {},
   "outputs": [
    {
     "name": "stdout",
     "output_type": "stream",
     "text": [
      "(9134, 24)\n"
     ]
    }
   ],
   "source": [
    "print(Data.shape)"
   ]
  },
  {
   "cell_type": "code",
   "execution_count": 6,
   "metadata": {},
   "outputs": [
    {
     "name": "stdout",
     "output_type": "stream",
     "text": [
      "[['BU79786' 'Washington' 2763.519279 'No' 'Basic' 'Bachelor' '2/24/2011'\n",
      "  'Employed' 'F' 56274 'Suburban' 'Married' 69 32 5 0 1 'Corporate Auto'\n",
      "  'Corporate L3' 'Offer1' 'Agent' 384.811147 'Two-Door Car' 'Medsize']\n",
      " ['QZ44356' 'Arizona' 6979.535903 'No' 'Extended' 'Bachelor' '1/31/2011'\n",
      "  'Unemployed' 'F' 0 'Suburban' 'Single' 94 13 42 0 8 'Personal Auto'\n",
      "  'Personal L3' 'Offer3' 'Agent' 1131.464935 'Four-Door Car' 'Medsize']]\n"
     ]
    }
   ],
   "source": [
    "print(Data[0:2,:])"
   ]
  },
  {
   "cell_type": "code",
   "execution_count": 11,
   "metadata": {},
   "outputs": [],
   "source": [
    "X = np.concatenate((Data[:,0:2],Data[:,3:]),axis = 1)\n",
    "Y = Data[:,2]"
   ]
  },
  {
   "cell_type": "code",
   "execution_count": 12,
   "metadata": {},
   "outputs": [
    {
     "name": "stdout",
     "output_type": "stream",
     "text": [
      "['BU79786' 'Washington' 'No' 'Basic' 'Bachelor' '2/24/2011' 'Employed' 'F'\n",
      " 56274 'Suburban' 'Married' 69 32 5 0 1 'Corporate Auto' 'Corporate L3'\n",
      " 'Offer1' 'Agent' 384.811147 'Two-Door Car' 'Medsize']\n"
     ]
    }
   ],
   "source": [
    "print(X[0])"
   ]
  },
  {
   "cell_type": "code",
   "execution_count": 13,
   "metadata": {},
   "outputs": [
    {
     "name": "stdout",
     "output_type": "stream",
     "text": [
      "[2763.519279 6979.535903 12887.43165 ... 8163.890428 7524.442436\n",
      " 2611.836866]\n"
     ]
    }
   ],
   "source": [
    "print(Y)"
   ]
  },
  {
   "cell_type": "code",
   "execution_count": 69,
   "metadata": {},
   "outputs": [
    {
     "name": "stdout",
     "output_type": "stream",
     "text": [
      "['Washington' 'Arizona' 'Nevada' ... 'California' 'California'\n",
      " 'California']\n",
      "(9134, 14)\n",
      "9134\n"
     ]
    }
   ],
   "source": [
    "X_cat = X[:,[1,2,3,4,6,7,9,10,16,17,18,19,21,22]]\n",
    "print(X_cat[:,0])\n",
    "print(X_cat.shape)\n",
    "print(len(X_cat))"
   ]
  },
  {
   "cell_type": "code",
   "execution_count": 114,
   "metadata": {},
   "outputs": [
    {
     "name": "stdout",
     "output_type": "stream",
     "text": [
      "(9134,)\n",
      "1\n",
      "[0 1]\n",
      "2\n",
      "[0 1 2]\n",
      "3\n",
      "[0 1 2 3 4]\n",
      "4\n",
      "[0 1 2 3 4]\n",
      "5\n",
      "[0 1]\n",
      "6\n",
      "[0 1 2]\n",
      "7\n",
      "[0 1 2]\n",
      "8\n",
      "[0 1 2]\n",
      "9\n",
      "[0 1 2 3 4 5 6 7 8]\n",
      "10\n",
      "[0 1 2 3]\n",
      "11\n",
      "[0 1 2 3]\n",
      "12\n",
      "[0 1 2 3 4 5]\n",
      "13\n",
      "[0 1 2]\n"
     ]
    }
   ],
   "source": [
    "enc1 = LabelEncoder()\n",
    "X_cat_t = enc1.fit_transform(X_cat[:,0])\n",
    "print(X_cat_t.shape)\n",
    "for i in range(1,14):\n",
    "    print(i)\n",
    "    enc1 = LabelEncoder()\n",
    "    X_cat_t = np.vstack((X_cat_t,enc1.fit_transform(X_cat[:,i])))\n",
    "    print(enc1.classes_)"
   ]
  },
  {
   "cell_type": "code",
   "execution_count": 78,
   "metadata": {},
   "outputs": [
    {
     "name": "stdout",
     "output_type": "stream",
     "text": [
      "(14, 9134)\n"
     ]
    }
   ],
   "source": [
    "print(X_cat_t.shape)"
   ]
  },
  {
   "cell_type": "code",
   "execution_count": 93,
   "metadata": {},
   "outputs": [
    {
     "name": "stdout",
     "output_type": "stream",
     "text": [
      "[[4 0 2 1 4 3 3 0 3 3 1 1 1 0 1 3 2 1 3 1]\n",
      " [0 0 0 0 0 1 1 0 1 0 0 0 0 1 0 0 0 0 0 0]\n",
      " [0 1 2 0 0 0 0 2 0 1 0 0 2 0 0 0 0 0 0 2]\n",
      " [0 0 0 0 0 0 1 4 0 1 1 1 4 3 1 0 3 1 1 3]\n",
      " [1 4 1 4 1 1 1 4 2 1 4 4 1 1 1 1 2 2 1 1]\n",
      " [0 0 0 1 1 0 0 1 1 0 1 0 1 1 1 0 1 1 1 0]\n",
      " [1 1 1 1 0 0 1 2 1 2 1 1 2 1 2 0 1 1 2 1]\n",
      " [1 2 1 1 2 1 1 2 0 1 2 1 1 1 2 1 1 1 1 1]\n",
      " [0 1 1 0 1 1 0 0 0 2 1 1 0 0 0 0 1 1 1 0]\n",
      " [2 5 5 1 3 5 2 2 2 7 5 5 0 2 2 1 5 4 4 1]\n",
      " [0 2 0 0 0 1 0 0 0 1 0 1 1 1 3 1 1 2 1 0]\n",
      " [0 0 0 2 0 3 0 0 0 1 0 0 0 1 2 1 2 2 1 2]\n",
      " [5 0 5 3 0 5 0 0 0 0 0 3 0 3 0 0 5 3 0 0]\n",
      " [1 1 1 1 1 1 1 1 1 1 2 1 1 1 1 1 1 1 1 2]]\n"
     ]
    }
   ],
   "source": [
    "print(X_cat_t[0:14,0:20])"
   ]
  },
  {
   "cell_type": "code",
   "execution_count": 94,
   "metadata": {},
   "outputs": [
    {
     "name": "stdout",
     "output_type": "stream",
     "text": [
      "(9134, 14)\n"
     ]
    }
   ],
   "source": [
    "X_cat = np.transpose(X_cat_t)\n",
    "print(X_cat.shape)"
   ]
  },
  {
   "cell_type": "code",
   "execution_count": 96,
   "metadata": {},
   "outputs": [],
   "source": [
    "enc = OneHotEncoder()\n",
    "X_cat_one_hot = enc.fit_transform(X_cat)"
   ]
  },
  {
   "cell_type": "code",
   "execution_count": 120,
   "metadata": {},
   "outputs": [
    {
     "name": "stdout",
     "output_type": "stream",
     "text": [
      "(9134, 57)\n",
      "14.0\n",
      "1.0\n"
     ]
    }
   ],
   "source": [
    "print(X_cat_one_hot.shape)\n",
    "print(np.sum(X_cat_one_hot[0]))\n",
    "print(X_cat_one_hot[0,7])"
   ]
  },
  {
   "cell_type": "code",
   "execution_count": 119,
   "metadata": {},
   "outputs": [
    {
     "ename": "ValueError",
     "evalue": "Expected 1D or 2D array, got 0D array instead",
     "output_type": "error",
     "traceback": [
      "\u001b[0;31m---------------------------------------------------------------------------\u001b[0m",
      "\u001b[0;31mValueError\u001b[0m                                Traceback (most recent call last)",
      "\u001b[0;32m<ipython-input-119-923277e6bc95>\u001b[0m in \u001b[0;36m<module>\u001b[0;34m\u001b[0m\n\u001b[0;32m----> 1\u001b[0;31m \u001b[0mnp\u001b[0m\u001b[0;34m.\u001b[0m\u001b[0msavetxt\u001b[0m\u001b[0;34m(\u001b[0m\u001b[0;34m\"X_categorical.csv\"\u001b[0m\u001b[0;34m,\u001b[0m\u001b[0mX_cat_one_hot\u001b[0m\u001b[0;34m,\u001b[0m \u001b[0mdelimiter\u001b[0m \u001b[0;34m=\u001b[0m \u001b[0;34m\",\"\u001b[0m\u001b[0;34m)\u001b[0m\u001b[0;34m\u001b[0m\u001b[0m\n\u001b[0m",
      "\u001b[0;32m~/.local/lib/python3.5/site-packages/numpy/lib/npyio.py\u001b[0m in \u001b[0;36msavetxt\u001b[0;34m(fname, X, fmt, delimiter, newline, header, footer, comments, encoding)\u001b[0m\n\u001b[1;32m   1323\u001b[0m         \u001b[0;32mif\u001b[0m \u001b[0mX\u001b[0m\u001b[0;34m.\u001b[0m\u001b[0mndim\u001b[0m \u001b[0;34m==\u001b[0m \u001b[0;36m0\u001b[0m \u001b[0;32mor\u001b[0m \u001b[0mX\u001b[0m\u001b[0;34m.\u001b[0m\u001b[0mndim\u001b[0m \u001b[0;34m>\u001b[0m \u001b[0;36m2\u001b[0m\u001b[0;34m:\u001b[0m\u001b[0;34m\u001b[0m\u001b[0m\n\u001b[1;32m   1324\u001b[0m             raise ValueError(\n\u001b[0;32m-> 1325\u001b[0;31m                 \"Expected 1D or 2D array, got %dD array instead\" % X.ndim)\n\u001b[0m\u001b[1;32m   1326\u001b[0m         \u001b[0;32melif\u001b[0m \u001b[0mX\u001b[0m\u001b[0;34m.\u001b[0m\u001b[0mndim\u001b[0m \u001b[0;34m==\u001b[0m \u001b[0;36m1\u001b[0m\u001b[0;34m:\u001b[0m\u001b[0;34m\u001b[0m\u001b[0m\n\u001b[1;32m   1327\u001b[0m             \u001b[0;31m# Common case -- 1d array of numbers\u001b[0m\u001b[0;34m\u001b[0m\u001b[0;34m\u001b[0m\u001b[0m\n",
      "\u001b[0;31mValueError\u001b[0m: Expected 1D or 2D array, got 0D array instead"
     ]
    }
   ],
   "source": [
    "np.savetxt(\"X_categorical.csv\",X_cat_one_hot, delimiter = \",\")"
   ]
  },
  {
   "cell_type": "code",
   "execution_count": null,
   "metadata": {},
   "outputs": [],
   "source": []
  }
 ],
 "metadata": {
  "kernelspec": {
   "display_name": "Python 3",
   "language": "python",
   "name": "python3"
  },
  "language_info": {
   "codemirror_mode": {
    "name": "ipython",
    "version": 3
   },
   "file_extension": ".py",
   "mimetype": "text/x-python",
   "name": "python",
   "nbconvert_exporter": "python",
   "pygments_lexer": "ipython3",
   "version": "3.5.2"
  }
 },
 "nbformat": 4,
 "nbformat_minor": 2
}
