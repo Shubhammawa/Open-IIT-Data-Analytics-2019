{
 "cells": [
  {
   "cell_type": "code",
   "execution_count": 1,
   "metadata": {},
   "outputs": [],
   "source": [
    "import numpy as np\n",
    "import pandas as pd\n",
    "pd.set_option('display.max_columns', 500)\n",
    "from sklearn.preprocessing import OneHotEncoder\n",
    "from sklearn.preprocessing import LabelEncoder\n",
    "from sklearn.model_selection import train_test_split\n",
    "from sklearn.metrics import mean_absolute_error, r2_score"
   ]
  },
  {
   "cell_type": "code",
   "execution_count": 2,
   "metadata": {},
   "outputs": [],
   "source": [
    "data = pd.read_csv(\"Insurance_Marketing-Customer-Value-Analysis (1).csv\")"
   ]
  },
  {
   "cell_type": "code",
   "execution_count": 3,
   "metadata": {},
   "outputs": [],
   "source": [
    "data['to_date'] = pd.to_datetime(data['Effective To Date'],format='%m/%d/%Y')"
   ]
  },
  {
   "cell_type": "code",
   "execution_count": 4,
   "metadata": {},
   "outputs": [
    {
     "data": {
      "text/html": [
       "<div>\n",
       "<style scoped>\n",
       "    .dataframe tbody tr th:only-of-type {\n",
       "        vertical-align: middle;\n",
       "    }\n",
       "\n",
       "    .dataframe tbody tr th {\n",
       "        vertical-align: top;\n",
       "    }\n",
       "\n",
       "    .dataframe thead th {\n",
       "        text-align: right;\n",
       "    }\n",
       "</style>\n",
       "<table border=\"1\" class=\"dataframe\">\n",
       "  <thead>\n",
       "    <tr style=\"text-align: right;\">\n",
       "      <th></th>\n",
       "      <th>Customer</th>\n",
       "      <th>State</th>\n",
       "      <th>Customer Lifetime Value</th>\n",
       "      <th>Response</th>\n",
       "      <th>Coverage</th>\n",
       "      <th>Education</th>\n",
       "      <th>Effective To Date</th>\n",
       "      <th>EmploymentStatus</th>\n",
       "      <th>Gender</th>\n",
       "      <th>Income</th>\n",
       "      <th>Location Code</th>\n",
       "      <th>Marital Status</th>\n",
       "      <th>Monthly Premium Auto</th>\n",
       "      <th>Months Since Last Claim</th>\n",
       "      <th>Months Since Policy Inception</th>\n",
       "      <th>Number of Open Complaints</th>\n",
       "      <th>Number of Policies</th>\n",
       "      <th>Policy Type</th>\n",
       "      <th>Policy</th>\n",
       "      <th>Renew Offer Type</th>\n",
       "      <th>Sales Channel</th>\n",
       "      <th>Total Claim Amount</th>\n",
       "      <th>Vehicle Class</th>\n",
       "      <th>Vehicle Size</th>\n",
       "      <th>to_date</th>\n",
       "      <th>num_days</th>\n",
       "      <th>num_months</th>\n",
       "    </tr>\n",
       "  </thead>\n",
       "  <tbody>\n",
       "    <tr>\n",
       "      <th>0</th>\n",
       "      <td>BU79786</td>\n",
       "      <td>Washington</td>\n",
       "      <td>2763.519279</td>\n",
       "      <td>No</td>\n",
       "      <td>Basic</td>\n",
       "      <td>Bachelor</td>\n",
       "      <td>2/24/2011</td>\n",
       "      <td>Employed</td>\n",
       "      <td>F</td>\n",
       "      <td>56274</td>\n",
       "      <td>Suburban</td>\n",
       "      <td>Married</td>\n",
       "      <td>69</td>\n",
       "      <td>32</td>\n",
       "      <td>5</td>\n",
       "      <td>0</td>\n",
       "      <td>1</td>\n",
       "      <td>Corporate Auto</td>\n",
       "      <td>Corporate L3</td>\n",
       "      <td>Offer1</td>\n",
       "      <td>Agent</td>\n",
       "      <td>384.811147</td>\n",
       "      <td>Two-Door Car</td>\n",
       "      <td>Medsize</td>\n",
       "      <td>2011-02-24</td>\n",
       "      <td>54.0</td>\n",
       "      <td>1.774164</td>\n",
       "    </tr>\n",
       "    <tr>\n",
       "      <th>1</th>\n",
       "      <td>QZ44356</td>\n",
       "      <td>Arizona</td>\n",
       "      <td>6979.535903</td>\n",
       "      <td>No</td>\n",
       "      <td>Extended</td>\n",
       "      <td>Bachelor</td>\n",
       "      <td>1/31/2011</td>\n",
       "      <td>Unemployed</td>\n",
       "      <td>F</td>\n",
       "      <td>0</td>\n",
       "      <td>Suburban</td>\n",
       "      <td>Single</td>\n",
       "      <td>94</td>\n",
       "      <td>13</td>\n",
       "      <td>42</td>\n",
       "      <td>0</td>\n",
       "      <td>8</td>\n",
       "      <td>Personal Auto</td>\n",
       "      <td>Personal L3</td>\n",
       "      <td>Offer3</td>\n",
       "      <td>Agent</td>\n",
       "      <td>1131.464935</td>\n",
       "      <td>Four-Door Car</td>\n",
       "      <td>Medsize</td>\n",
       "      <td>2011-01-31</td>\n",
       "      <td>30.0</td>\n",
       "      <td>0.985647</td>\n",
       "    </tr>\n",
       "    <tr>\n",
       "      <th>2</th>\n",
       "      <td>AI49188</td>\n",
       "      <td>Nevada</td>\n",
       "      <td>12887.431650</td>\n",
       "      <td>No</td>\n",
       "      <td>Premium</td>\n",
       "      <td>Bachelor</td>\n",
       "      <td>2/19/2011</td>\n",
       "      <td>Employed</td>\n",
       "      <td>F</td>\n",
       "      <td>48767</td>\n",
       "      <td>Suburban</td>\n",
       "      <td>Married</td>\n",
       "      <td>108</td>\n",
       "      <td>18</td>\n",
       "      <td>38</td>\n",
       "      <td>0</td>\n",
       "      <td>2</td>\n",
       "      <td>Personal Auto</td>\n",
       "      <td>Personal L3</td>\n",
       "      <td>Offer1</td>\n",
       "      <td>Agent</td>\n",
       "      <td>566.472247</td>\n",
       "      <td>Two-Door Car</td>\n",
       "      <td>Medsize</td>\n",
       "      <td>2011-02-19</td>\n",
       "      <td>49.0</td>\n",
       "      <td>1.609889</td>\n",
       "    </tr>\n",
       "    <tr>\n",
       "      <th>3</th>\n",
       "      <td>WW63253</td>\n",
       "      <td>California</td>\n",
       "      <td>7645.861827</td>\n",
       "      <td>No</td>\n",
       "      <td>Basic</td>\n",
       "      <td>Bachelor</td>\n",
       "      <td>1/20/2011</td>\n",
       "      <td>Unemployed</td>\n",
       "      <td>M</td>\n",
       "      <td>0</td>\n",
       "      <td>Suburban</td>\n",
       "      <td>Married</td>\n",
       "      <td>106</td>\n",
       "      <td>18</td>\n",
       "      <td>65</td>\n",
       "      <td>0</td>\n",
       "      <td>7</td>\n",
       "      <td>Corporate Auto</td>\n",
       "      <td>Corporate L2</td>\n",
       "      <td>Offer1</td>\n",
       "      <td>Call Center</td>\n",
       "      <td>529.881344</td>\n",
       "      <td>SUV</td>\n",
       "      <td>Medsize</td>\n",
       "      <td>2011-01-20</td>\n",
       "      <td>19.0</td>\n",
       "      <td>0.624243</td>\n",
       "    </tr>\n",
       "    <tr>\n",
       "      <th>4</th>\n",
       "      <td>HB64268</td>\n",
       "      <td>Washington</td>\n",
       "      <td>2813.692575</td>\n",
       "      <td>No</td>\n",
       "      <td>Basic</td>\n",
       "      <td>Bachelor</td>\n",
       "      <td>2/3/2011</td>\n",
       "      <td>Employed</td>\n",
       "      <td>M</td>\n",
       "      <td>43836</td>\n",
       "      <td>Rural</td>\n",
       "      <td>Single</td>\n",
       "      <td>73</td>\n",
       "      <td>12</td>\n",
       "      <td>44</td>\n",
       "      <td>0</td>\n",
       "      <td>1</td>\n",
       "      <td>Personal Auto</td>\n",
       "      <td>Personal L1</td>\n",
       "      <td>Offer1</td>\n",
       "      <td>Agent</td>\n",
       "      <td>138.130879</td>\n",
       "      <td>Four-Door Car</td>\n",
       "      <td>Medsize</td>\n",
       "      <td>2011-02-03</td>\n",
       "      <td>33.0</td>\n",
       "      <td>1.084211</td>\n",
       "    </tr>\n",
       "  </tbody>\n",
       "</table>\n",
       "</div>"
      ],
      "text/plain": [
       "  Customer       State  Customer Lifetime Value Response  Coverage Education  \\\n",
       "0  BU79786  Washington              2763.519279       No     Basic  Bachelor   \n",
       "1  QZ44356     Arizona              6979.535903       No  Extended  Bachelor   \n",
       "2  AI49188      Nevada             12887.431650       No   Premium  Bachelor   \n",
       "3  WW63253  California              7645.861827       No     Basic  Bachelor   \n",
       "4  HB64268  Washington              2813.692575       No     Basic  Bachelor   \n",
       "\n",
       "  Effective To Date EmploymentStatus Gender  Income Location Code  \\\n",
       "0         2/24/2011         Employed      F   56274      Suburban   \n",
       "1         1/31/2011       Unemployed      F       0      Suburban   \n",
       "2         2/19/2011         Employed      F   48767      Suburban   \n",
       "3         1/20/2011       Unemployed      M       0      Suburban   \n",
       "4          2/3/2011         Employed      M   43836         Rural   \n",
       "\n",
       "  Marital Status  Monthly Premium Auto  Months Since Last Claim  \\\n",
       "0        Married                    69                       32   \n",
       "1         Single                    94                       13   \n",
       "2        Married                   108                       18   \n",
       "3        Married                   106                       18   \n",
       "4         Single                    73                       12   \n",
       "\n",
       "   Months Since Policy Inception  Number of Open Complaints  \\\n",
       "0                              5                          0   \n",
       "1                             42                          0   \n",
       "2                             38                          0   \n",
       "3                             65                          0   \n",
       "4                             44                          0   \n",
       "\n",
       "   Number of Policies     Policy Type        Policy Renew Offer Type  \\\n",
       "0                   1  Corporate Auto  Corporate L3           Offer1   \n",
       "1                   8   Personal Auto   Personal L3           Offer3   \n",
       "2                   2   Personal Auto   Personal L3           Offer1   \n",
       "3                   7  Corporate Auto  Corporate L2           Offer1   \n",
       "4                   1   Personal Auto   Personal L1           Offer1   \n",
       "\n",
       "  Sales Channel  Total Claim Amount  Vehicle Class Vehicle Size    to_date  \\\n",
       "0         Agent          384.811147   Two-Door Car      Medsize 2011-02-24   \n",
       "1         Agent         1131.464935  Four-Door Car      Medsize 2011-01-31   \n",
       "2         Agent          566.472247   Two-Door Car      Medsize 2011-02-19   \n",
       "3   Call Center          529.881344            SUV      Medsize 2011-01-20   \n",
       "4         Agent          138.130879  Four-Door Car      Medsize 2011-02-03   \n",
       "\n",
       "   num_days  num_months  \n",
       "0      54.0    1.774164  \n",
       "1      30.0    0.985647  \n",
       "2      49.0    1.609889  \n",
       "3      19.0    0.624243  \n",
       "4      33.0    1.084211  "
      ]
     },
     "execution_count": 4,
     "metadata": {},
     "output_type": "execute_result"
    }
   ],
   "source": [
    "# data['to_date_year'] = pd.DatetimeIndex(data['to_date']).year\n",
    "# data['to_date_month'] = pd.DatetimeIndex(data['to_date']).month\n",
    "# data['to_date_day'] = pd.DatetimeIndex(data['to_date']).day\n",
    "ref_date = pd.to_datetime('1/1/2011', format='%m/%d/%Y')      # Jan 1, 2011 set as reference date\n",
    "data['num_days'] = data['to_date'].sub(ref_date)              # Calculating no of days remaining\n",
    "data['num_months'] = data['num_days']/np.timedelta64(1, 'M')\n",
    "data['num_days'] = data['num_days']/np.timedelta64(1, 'D')    # Converting num_days to float type\n",
    "data.head()"
   ]
  },
  {
   "cell_type": "code",
   "execution_count": 5,
   "metadata": {},
   "outputs": [],
   "source": [
    "data['present_value'] = (data['Monthly Premium Auto'] * data['Months Since Policy Inception']) - data['Total Claim Amount']\n",
    "data['customer_left'] = (data['Income'] - data['Monthly Premium Auto'])*(data['num_months'])"
   ]
  },
  {
   "cell_type": "code",
   "execution_count": 6,
   "metadata": {},
   "outputs": [],
   "source": [
    "# year is always 2011 and we don't need effective and date time\n",
    "# data.drop(['to_date_year', 'to_date', 'Effective To Date'], axis=1, inplace=True)\n",
    "data.drop(['to_date', 'Effective To Date'], axis=1, inplace=True)"
   ]
  },
  {
   "cell_type": "code",
   "execution_count": 7,
   "metadata": {},
   "outputs": [],
   "source": [
    "cols_to_norm = ['Income','Monthly Premium Auto','Months Since Last Claim','Months Since Policy Inception','Number of Open Complaints','Number of Policies', 'Total Claim Amount', 'num_days', 'num_months', 'present_value', 'customer_left']\n",
    "data[cols_to_norm] = data[cols_to_norm].apply(lambda x: (x - x.min()) / (x.max() - x.min()))"
   ]
  },
  {
   "cell_type": "code",
   "execution_count": 8,
   "metadata": {},
   "outputs": [
    {
     "data": {
      "text/plain": [
       "<Figure size 1500x1000 with 2 Axes>"
      ]
     },
     "metadata": {},
     "output_type": "display_data"
    }
   ],
   "source": [
    "import matplotlib.pyplot as plt\n",
    "import seaborn as sns\n",
    "import statsmodels.api as sm\n",
    "\n",
    "cols_to_norm = ['Income','Monthly Premium Auto','Months Since Last Claim','Months Since Policy Inception','Number of Open Complaints','Number of Policies', 'Total Claim Amount', 'present_value', 'customer_left', 'Customer Lifetime Value']\n",
    "\n",
    "plt.figure(figsize=(15,10))\n",
    "cor = data[cols_to_norm].corr()\n",
    "sns.heatmap(cor, annot=True, cmap=plt.cm.Blues)\n",
    "plt.show()"
   ]
  },
  {
   "cell_type": "code",
   "execution_count": 9,
   "metadata": {},
   "outputs": [],
   "source": [
    "data.drop(['Customer'], axis=1,inplace=True)\n",
    "data = data = pd.get_dummies(data, drop_first=True)"
   ]
  },
  {
   "cell_type": "code",
   "execution_count": 10,
   "metadata": {},
   "outputs": [],
   "source": [
    "X = data.drop(['Customer Lifetime Value'], axis=1)\n",
    "Y = data['Customer Lifetime Value']\n",
    "\n",
    "# X = np.array(data[['Income','Monthly Premium Auto','Months Since Last Claim','Months Since Policy Inception'\n",
    "#                   ,'Total Claim Amount', 'num_days']])\n",
    "# Y = np.array(data['Customer Lifetime Value'])\n",
    "X_train, X_test, Y_train, Y_test = train_test_split(X, Y, test_size=0.2)"
   ]
  },
  {
   "cell_type": "code",
   "execution_count": 11,
   "metadata": {},
   "outputs": [
    {
     "name": "stdout",
     "output_type": "stream",
     "text": [
      "(7307, 54) (1827, 54)\n",
      "(7307,) (1827,)\n",
      "<class 'pandas.core.frame.DataFrame'>\n"
     ]
    }
   ],
   "source": [
    "print(X_train.shape, X_test.shape)\n",
    "print(Y_train.shape, Y_test.shape)\n",
    "print(type(X_train))"
   ]
  },
  {
   "cell_type": "markdown",
   "metadata": {},
   "source": [
    "### Random Forest Regressor"
   ]
  },
  {
   "cell_type": "code",
   "execution_count": 12,
   "metadata": {},
   "outputs": [],
   "source": [
    "from sklearn.ensemble import RandomForestRegressor\n",
    "from sklearn.model_selection import RandomizedSearchCV\n",
    "\n",
    "# Number of trees in random forest\n",
    "n_estimators = [int(x) for x in np.linspace(start = 200, stop = 400, num = 10)]\n",
    "# Number of features to consider at every split\n",
    "max_features = ['auto', 'sqrt']\n",
    "# Maximum number of levels in tree\n",
    "max_depth = [int(x) for x in np.linspace(50, 110, num = 10)]\n",
    "max_depth.append(None)\n",
    "# Minimum number of samples required to split a node\n",
    "min_samples_split = [2, 5, 10]\n",
    "# Minimum number of samples required at each leaf node\n",
    "min_samples_leaf = [1, 2, 4]\n",
    "# Method of selecting samples for training each tree\n",
    "bootstrap = [True, False]\n",
    "# Create the random grid\n",
    "random_grid = {'n_estimators': n_estimators,\n",
    "               'max_features': max_features,\n",
    "               'max_depth': max_depth,\n",
    "               'min_samples_split': min_samples_split,\n",
    "               'min_samples_leaf': min_samples_leaf,\n",
    "               'bootstrap': bootstrap}\n"
   ]
  },
  {
   "cell_type": "code",
   "execution_count": 13,
   "metadata": {},
   "outputs": [
    {
     "name": "stdout",
     "output_type": "stream",
     "text": [
      "Fitting 3 folds for each of 100 candidates, totalling 300 fits\n",
      "[CV] max_depth=50, n_estimators=400, max_features=sqrt, min_samples_leaf=2, min_samples_split=10, bootstrap=True \n",
      "[CV] max_depth=50, n_estimators=400, max_features=sqrt, min_samples_leaf=2, min_samples_split=10, bootstrap=True \n",
      "[CV] max_depth=50, n_estimators=400, max_features=sqrt, min_samples_leaf=2, min_samples_split=10, bootstrap=True \n",
      "[CV] max_depth=83, n_estimators=311, max_features=sqrt, min_samples_leaf=2, min_samples_split=2, bootstrap=True \n",
      "[CV]  max_depth=83, n_estimators=311, max_features=sqrt, min_samples_leaf=2, min_samples_split=2, bootstrap=True, total=  11.4s\n",
      "[CV] max_depth=83, n_estimators=311, max_features=sqrt, min_samples_leaf=2, min_samples_split=2, bootstrap=True \n",
      "[CV]  max_depth=50, n_estimators=400, max_features=sqrt, min_samples_leaf=2, min_samples_split=10, bootstrap=True, total=  12.3s\n",
      "[CV] max_depth=83, n_estimators=311, max_features=sqrt, min_samples_leaf=2, min_samples_split=2, bootstrap=True \n",
      "[CV]  max_depth=50, n_estimators=400, max_features=sqrt, min_samples_leaf=2, min_samples_split=10, bootstrap=True, total=  14.0s\n",
      "[CV] max_depth=None, n_estimators=333, max_features=auto, min_samples_leaf=2, min_samples_split=5, bootstrap=True \n",
      "[CV]  max_depth=50, n_estimators=400, max_features=sqrt, min_samples_leaf=2, min_samples_split=10, bootstrap=True, total=  13.7s\n",
      "[CV] max_depth=None, n_estimators=333, max_features=auto, min_samples_leaf=2, min_samples_split=5, bootstrap=True \n",
      "[CV]  max_depth=83, n_estimators=311, max_features=sqrt, min_samples_leaf=2, min_samples_split=2, bootstrap=True, total=  12.3s\n",
      "[CV] max_depth=None, n_estimators=333, max_features=auto, min_samples_leaf=2, min_samples_split=5, bootstrap=True \n",
      "[CV]  max_depth=83, n_estimators=311, max_features=sqrt, min_samples_leaf=2, min_samples_split=2, bootstrap=True, total=  13.1s\n",
      "[CV] max_depth=76, n_estimators=200, max_features=auto, min_samples_leaf=1, min_samples_split=2, bootstrap=True \n",
      "[CV]  max_depth=76, n_estimators=200, max_features=auto, min_samples_leaf=1, min_samples_split=2, bootstrap=True, total=  46.1s\n",
      "[CV] max_depth=76, n_estimators=200, max_features=auto, min_samples_leaf=1, min_samples_split=2, bootstrap=True \n",
      "[CV]  max_depth=None, n_estimators=333, max_features=auto, min_samples_leaf=2, min_samples_split=5, bootstrap=True, total= 1.0min\n",
      "[CV] max_depth=76, n_estimators=200, max_features=auto, min_samples_leaf=1, min_samples_split=2, bootstrap=True \n",
      "[CV]  max_depth=None, n_estimators=333, max_features=auto, min_samples_leaf=2, min_samples_split=5, bootstrap=True, total= 1.1min\n",
      "[CV] max_depth=56, n_estimators=311, max_features=sqrt, min_samples_leaf=2, min_samples_split=10, bootstrap=True \n",
      "[CV]  max_depth=None, n_estimators=333, max_features=auto, min_samples_leaf=2, min_samples_split=5, bootstrap=True, total= 1.1min\n",
      "[CV] max_depth=56, n_estimators=311, max_features=sqrt, min_samples_leaf=2, min_samples_split=10, bootstrap=True \n",
      "[CV]  max_depth=56, n_estimators=311, max_features=sqrt, min_samples_leaf=2, min_samples_split=10, bootstrap=True, total=  11.3s\n",
      "[CV] max_depth=56, n_estimators=311, max_features=sqrt, min_samples_leaf=2, min_samples_split=10, bootstrap=True \n",
      "[CV]  max_depth=56, n_estimators=311, max_features=sqrt, min_samples_leaf=2, min_samples_split=10, bootstrap=True, total=  11.5s\n",
      "[CV] max_depth=76, n_estimators=355, max_features=sqrt, min_samples_leaf=2, min_samples_split=5, bootstrap=True \n",
      "[CV]  max_depth=56, n_estimators=311, max_features=sqrt, min_samples_leaf=2, min_samples_split=10, bootstrap=True, total=  11.1s\n",
      "[CV] max_depth=76, n_estimators=355, max_features=sqrt, min_samples_leaf=2, min_samples_split=5, bootstrap=True \n",
      "[CV]  max_depth=76, n_estimators=355, max_features=sqrt, min_samples_leaf=2, min_samples_split=5, bootstrap=True, total=  15.4s\n",
      "[CV] max_depth=76, n_estimators=355, max_features=sqrt, min_samples_leaf=2, min_samples_split=5, bootstrap=True \n",
      "[CV]  max_depth=76, n_estimators=355, max_features=sqrt, min_samples_leaf=2, min_samples_split=5, bootstrap=True, total=  14.9s\n",
      "[CV] max_depth=90, n_estimators=266, max_features=sqrt, min_samples_leaf=1, min_samples_split=2, bootstrap=False \n",
      "[CV]  max_depth=76, n_estimators=200, max_features=auto, min_samples_leaf=1, min_samples_split=2, bootstrap=True, total=  46.9s\n",
      "[CV] max_depth=90, n_estimators=266, max_features=sqrt, min_samples_leaf=1, min_samples_split=2, bootstrap=False \n",
      "[CV]  max_depth=76, n_estimators=200, max_features=auto, min_samples_leaf=1, min_samples_split=2, bootstrap=True, total=  47.4s\n",
      "[CV] max_depth=90, n_estimators=266, max_features=sqrt, min_samples_leaf=1, min_samples_split=2, bootstrap=False \n",
      "[CV]  max_depth=76, n_estimators=355, max_features=sqrt, min_samples_leaf=2, min_samples_split=5, bootstrap=True, total=  15.0s\n",
      "[CV] max_depth=63, n_estimators=377, max_features=auto, min_samples_leaf=2, min_samples_split=5, bootstrap=True \n",
      "[CV]  max_depth=90, n_estimators=266, max_features=sqrt, min_samples_leaf=1, min_samples_split=2, bootstrap=False, total=  21.0s\n",
      "[CV] max_depth=63, n_estimators=377, max_features=auto, min_samples_leaf=2, min_samples_split=5, bootstrap=True \n",
      "[CV]  max_depth=90, n_estimators=266, max_features=sqrt, min_samples_leaf=1, min_samples_split=2, bootstrap=False, total=  20.4s\n",
      "[CV] max_depth=63, n_estimators=377, max_features=auto, min_samples_leaf=2, min_samples_split=5, bootstrap=True \n",
      "[CV]  max_depth=90, n_estimators=266, max_features=sqrt, min_samples_leaf=1, min_samples_split=2, bootstrap=False, total=  19.6s\n",
      "[CV] max_depth=76, n_estimators=244, max_features=sqrt, min_samples_leaf=2, min_samples_split=2, bootstrap=False \n",
      "[CV]  max_depth=76, n_estimators=244, max_features=sqrt, min_samples_leaf=2, min_samples_split=2, bootstrap=False, total=  14.5s\n",
      "[CV] max_depth=76, n_estimators=244, max_features=sqrt, min_samples_leaf=2, min_samples_split=2, bootstrap=False \n",
      "[CV]  max_depth=76, n_estimators=244, max_features=sqrt, min_samples_leaf=2, min_samples_split=2, bootstrap=False, total=  14.1s\n",
      "[CV] max_depth=76, n_estimators=244, max_features=sqrt, min_samples_leaf=2, min_samples_split=2, bootstrap=False \n",
      "[CV]  max_depth=76, n_estimators=244, max_features=sqrt, min_samples_leaf=2, min_samples_split=2, bootstrap=False, total=  14.7s\n",
      "[CV] max_depth=103, n_estimators=288, max_features=sqrt, min_samples_leaf=4, min_samples_split=5, bootstrap=False \n",
      "[CV]  max_depth=63, n_estimators=377, max_features=auto, min_samples_leaf=2, min_samples_split=5, bootstrap=True, total= 1.0min\n",
      "[CV] max_depth=103, n_estimators=288, max_features=sqrt, min_samples_leaf=4, min_samples_split=5, bootstrap=False \n",
      "[CV]  max_depth=63, n_estimators=377, max_features=auto, min_samples_leaf=2, min_samples_split=5, bootstrap=True, total= 1.0min\n",
      "[CV] max_depth=103, n_estimators=288, max_features=sqrt, min_samples_leaf=4, min_samples_split=5, bootstrap=False \n",
      "[CV]  max_depth=103, n_estimators=288, max_features=sqrt, min_samples_leaf=4, min_samples_split=5, bootstrap=False, total=  14.3s\n",
      "[CV] max_depth=96, n_estimators=377, max_features=auto, min_samples_leaf=1, min_samples_split=10, bootstrap=False \n",
      "[CV]  max_depth=63, n_estimators=377, max_features=auto, min_samples_leaf=2, min_samples_split=5, bootstrap=True, total= 1.1min\n",
      "[CV] max_depth=96, n_estimators=377, max_features=auto, min_samples_leaf=1, min_samples_split=10, bootstrap=False \n",
      "[CV]  max_depth=103, n_estimators=288, max_features=sqrt, min_samples_leaf=4, min_samples_split=5, bootstrap=False, total=  15.0s\n",
      "[CV] max_depth=96, n_estimators=377, max_features=auto, min_samples_leaf=1, min_samples_split=10, bootstrap=False \n",
      "[CV]  max_depth=103, n_estimators=288, max_features=sqrt, min_samples_leaf=4, min_samples_split=5, bootstrap=False, total=  15.7s\n",
      "[CV] max_depth=103, n_estimators=400, max_features=auto, min_samples_leaf=4, min_samples_split=2, bootstrap=False \n",
      "[CV]  max_depth=96, n_estimators=377, max_features=auto, min_samples_leaf=1, min_samples_split=10, bootstrap=False, total= 1.7min\n",
      "[CV] max_depth=103, n_estimators=400, max_features=auto, min_samples_leaf=4, min_samples_split=2, bootstrap=False \n",
      "[CV]  max_depth=96, n_estimators=377, max_features=auto, min_samples_leaf=1, min_samples_split=10, bootstrap=False, total= 1.7min\n",
      "[CV] max_depth=103, n_estimators=400, max_features=auto, min_samples_leaf=4, min_samples_split=2, bootstrap=False \n"
     ]
    },
    {
     "name": "stdout",
     "output_type": "stream",
     "text": [
      "[CV]  max_depth=103, n_estimators=400, max_features=auto, min_samples_leaf=4, min_samples_split=2, bootstrap=False, total= 1.6min\n",
      "[CV] max_depth=103, n_estimators=400, max_features=auto, min_samples_leaf=2, min_samples_split=10, bootstrap=False \n",
      "[CV]  max_depth=96, n_estimators=377, max_features=auto, min_samples_leaf=1, min_samples_split=10, bootstrap=False, total= 1.7min\n",
      "[CV] max_depth=103, n_estimators=400, max_features=auto, min_samples_leaf=2, min_samples_split=10, bootstrap=False \n"
     ]
    },
    {
     "name": "stderr",
     "output_type": "stream",
     "text": [
      "[Parallel(n_jobs=-1)]: Done  33 tasks      | elapsed:  5.4min\n"
     ]
    },
    {
     "name": "stdout",
     "output_type": "stream",
     "text": [
      "[CV]  max_depth=103, n_estimators=400, max_features=auto, min_samples_leaf=4, min_samples_split=2, bootstrap=False, total= 1.8min\n",
      "[CV] max_depth=103, n_estimators=400, max_features=auto, min_samples_leaf=2, min_samples_split=10, bootstrap=False \n",
      "[CV]  max_depth=103, n_estimators=400, max_features=auto, min_samples_leaf=4, min_samples_split=2, bootstrap=False, total= 1.8min\n",
      "[CV] max_depth=56, n_estimators=288, max_features=sqrt, min_samples_leaf=4, min_samples_split=10, bootstrap=True \n",
      "[CV]  max_depth=103, n_estimators=400, max_features=auto, min_samples_leaf=2, min_samples_split=10, bootstrap=False, total= 1.8min\n",
      "[CV] max_depth=56, n_estimators=288, max_features=sqrt, min_samples_leaf=4, min_samples_split=10, bootstrap=True \n",
      "[CV]  max_depth=103, n_estimators=400, max_features=auto, min_samples_leaf=2, min_samples_split=10, bootstrap=False, total= 1.8min\n",
      "[CV] max_depth=56, n_estimators=288, max_features=sqrt, min_samples_leaf=4, min_samples_split=10, bootstrap=True \n",
      "[CV]  max_depth=56, n_estimators=288, max_features=sqrt, min_samples_leaf=4, min_samples_split=10, bootstrap=True, total=  10.1s\n",
      "[CV] max_depth=103, n_estimators=222, max_features=sqrt, min_samples_leaf=1, min_samples_split=2, bootstrap=False \n",
      "[CV]  max_depth=56, n_estimators=288, max_features=sqrt, min_samples_leaf=4, min_samples_split=10, bootstrap=True, total=  10.7s\n",
      "[CV] max_depth=103, n_estimators=222, max_features=sqrt, min_samples_leaf=1, min_samples_split=2, bootstrap=False \n",
      "[CV]  max_depth=56, n_estimators=288, max_features=sqrt, min_samples_leaf=4, min_samples_split=10, bootstrap=True, total=  11.0s\n",
      "[CV] max_depth=103, n_estimators=222, max_features=sqrt, min_samples_leaf=1, min_samples_split=2, bootstrap=False \n",
      "[CV]  max_depth=103, n_estimators=222, max_features=sqrt, min_samples_leaf=1, min_samples_split=2, bootstrap=False, total=  16.5s\n",
      "[CV] max_depth=50, n_estimators=400, max_features=sqrt, min_samples_leaf=4, min_samples_split=10, bootstrap=False \n",
      "[CV]  max_depth=103, n_estimators=222, max_features=sqrt, min_samples_leaf=1, min_samples_split=2, bootstrap=False, total=  15.9s\n",
      "[CV] max_depth=50, n_estimators=400, max_features=sqrt, min_samples_leaf=4, min_samples_split=10, bootstrap=False \n",
      "[CV]  max_depth=103, n_estimators=222, max_features=sqrt, min_samples_leaf=1, min_samples_split=2, bootstrap=False, total=  16.4s\n",
      "[CV] max_depth=50, n_estimators=400, max_features=sqrt, min_samples_leaf=4, min_samples_split=10, bootstrap=False \n",
      "[CV]  max_depth=50, n_estimators=400, max_features=sqrt, min_samples_leaf=4, min_samples_split=10, bootstrap=False, total=  20.5s\n",
      "[CV] max_depth=70, n_estimators=200, max_features=sqrt, min_samples_leaf=2, min_samples_split=5, bootstrap=False \n",
      "[CV]  max_depth=50, n_estimators=400, max_features=sqrt, min_samples_leaf=4, min_samples_split=10, bootstrap=False, total=  21.0s\n",
      "[CV] max_depth=70, n_estimators=200, max_features=sqrt, min_samples_leaf=2, min_samples_split=5, bootstrap=False \n",
      "[CV]  max_depth=50, n_estimators=400, max_features=sqrt, min_samples_leaf=4, min_samples_split=10, bootstrap=False, total=  20.9s\n",
      "[CV] max_depth=70, n_estimators=200, max_features=sqrt, min_samples_leaf=2, min_samples_split=5, bootstrap=False \n",
      "[CV]  max_depth=70, n_estimators=200, max_features=sqrt, min_samples_leaf=2, min_samples_split=5, bootstrap=False, total=  12.5s\n",
      "[CV] max_depth=90, n_estimators=311, max_features=auto, min_samples_leaf=2, min_samples_split=2, bootstrap=False \n",
      "[CV]  max_depth=70, n_estimators=200, max_features=sqrt, min_samples_leaf=2, min_samples_split=5, bootstrap=False, total=  12.3s\n",
      "[CV] max_depth=90, n_estimators=311, max_features=auto, min_samples_leaf=2, min_samples_split=2, bootstrap=False \n",
      "[CV]  max_depth=70, n_estimators=200, max_features=sqrt, min_samples_leaf=2, min_samples_split=5, bootstrap=False, total=  13.7s\n",
      "[CV] max_depth=90, n_estimators=311, max_features=auto, min_samples_leaf=2, min_samples_split=2, bootstrap=False \n",
      "[CV]  max_depth=103, n_estimators=400, max_features=auto, min_samples_leaf=2, min_samples_split=10, bootstrap=False, total= 1.8min\n",
      "[CV] max_depth=63, n_estimators=333, max_features=sqrt, min_samples_leaf=4, min_samples_split=5, bootstrap=False \n",
      "[CV]  max_depth=63, n_estimators=333, max_features=sqrt, min_samples_leaf=4, min_samples_split=5, bootstrap=False, total=  16.3s\n",
      "[CV] max_depth=63, n_estimators=333, max_features=sqrt, min_samples_leaf=4, min_samples_split=5, bootstrap=False \n",
      "[CV]  max_depth=63, n_estimators=333, max_features=sqrt, min_samples_leaf=4, min_samples_split=5, bootstrap=False, total=  16.9s\n",
      "[CV] max_depth=63, n_estimators=333, max_features=sqrt, min_samples_leaf=4, min_samples_split=5, bootstrap=False \n",
      "[CV]  max_depth=90, n_estimators=311, max_features=auto, min_samples_leaf=2, min_samples_split=2, bootstrap=False, total= 1.5min\n",
      "[CV] max_depth=90, n_estimators=400, max_features=sqrt, min_samples_leaf=1, min_samples_split=5, bootstrap=True \n",
      "[CV]  max_depth=63, n_estimators=333, max_features=sqrt, min_samples_leaf=4, min_samples_split=5, bootstrap=False, total=  18.9s\n",
      "[CV] max_depth=90, n_estimators=400, max_features=sqrt, min_samples_leaf=1, min_samples_split=5, bootstrap=True \n",
      "[CV]  max_depth=90, n_estimators=311, max_features=auto, min_samples_leaf=2, min_samples_split=2, bootstrap=False, total= 1.5min\n",
      "[CV] max_depth=90, n_estimators=400, max_features=sqrt, min_samples_leaf=1, min_samples_split=5, bootstrap=True \n",
      "[CV]  max_depth=90, n_estimators=311, max_features=auto, min_samples_leaf=2, min_samples_split=2, bootstrap=False, total= 1.5min\n",
      "[CV] max_depth=None, n_estimators=288, max_features=auto, min_samples_leaf=4, min_samples_split=5, bootstrap=True \n",
      "[CV]  max_depth=90, n_estimators=400, max_features=sqrt, min_samples_leaf=1, min_samples_split=5, bootstrap=True, total=  16.8s\n",
      "[CV] max_depth=None, n_estimators=288, max_features=auto, min_samples_leaf=4, min_samples_split=5, bootstrap=True \n",
      "[CV]  max_depth=90, n_estimators=400, max_features=sqrt, min_samples_leaf=1, min_samples_split=5, bootstrap=True, total=  16.9s\n",
      "[CV] max_depth=None, n_estimators=288, max_features=auto, min_samples_leaf=4, min_samples_split=5, bootstrap=True \n",
      "[CV]  max_depth=90, n_estimators=400, max_features=sqrt, min_samples_leaf=1, min_samples_split=5, bootstrap=True, total=  16.8s\n",
      "[CV] max_depth=63, n_estimators=200, max_features=auto, min_samples_leaf=4, min_samples_split=2, bootstrap=False \n",
      "[CV]  max_depth=None, n_estimators=288, max_features=auto, min_samples_leaf=4, min_samples_split=5, bootstrap=True, total=  43.8s\n",
      "[CV] max_depth=63, n_estimators=200, max_features=auto, min_samples_leaf=4, min_samples_split=2, bootstrap=False \n",
      "[CV]  max_depth=None, n_estimators=288, max_features=auto, min_samples_leaf=4, min_samples_split=5, bootstrap=True, total=  42.2s\n",
      "[CV] max_depth=63, n_estimators=200, max_features=auto, min_samples_leaf=4, min_samples_split=2, bootstrap=False \n",
      "[CV]  max_depth=None, n_estimators=288, max_features=auto, min_samples_leaf=4, min_samples_split=5, bootstrap=True, total=  41.8s\n",
      "[CV] max_depth=90, n_estimators=222, max_features=sqrt, min_samples_leaf=4, min_samples_split=2, bootstrap=True \n",
      "[CV]  max_depth=63, n_estimators=200, max_features=auto, min_samples_leaf=4, min_samples_split=2, bootstrap=False, total=  44.8s\n",
      "[CV] max_depth=90, n_estimators=222, max_features=sqrt, min_samples_leaf=4, min_samples_split=2, bootstrap=True \n",
      "[CV]  max_depth=90, n_estimators=222, max_features=sqrt, min_samples_leaf=4, min_samples_split=2, bootstrap=True, total=   7.7s\n",
      "[CV] max_depth=90, n_estimators=222, max_features=sqrt, min_samples_leaf=4, min_samples_split=2, bootstrap=True \n",
      "[CV]  max_depth=90, n_estimators=222, max_features=sqrt, min_samples_leaf=4, min_samples_split=2, bootstrap=True, total=   8.0s\n",
      "[CV] max_depth=103, n_estimators=355, max_features=sqrt, min_samples_leaf=2, min_samples_split=5, bootstrap=False \n",
      "[CV]  max_depth=90, n_estimators=222, max_features=sqrt, min_samples_leaf=4, min_samples_split=2, bootstrap=True, total=   9.2s\n",
      "[CV] max_depth=103, n_estimators=355, max_features=sqrt, min_samples_leaf=2, min_samples_split=5, bootstrap=False \n",
      "[CV]  max_depth=63, n_estimators=200, max_features=auto, min_samples_leaf=4, min_samples_split=2, bootstrap=False, total=  49.2s\n",
      "[CV] max_depth=103, n_estimators=355, max_features=sqrt, min_samples_leaf=2, min_samples_split=5, bootstrap=False \n"
     ]
    },
    {
     "name": "stdout",
     "output_type": "stream",
     "text": [
      "[CV]  max_depth=103, n_estimators=355, max_features=sqrt, min_samples_leaf=2, min_samples_split=5, bootstrap=False, total=  22.5s\n",
      "[CV] max_depth=None, n_estimators=200, max_features=sqrt, min_samples_leaf=1, min_samples_split=2, bootstrap=False \n",
      "[CV]  max_depth=103, n_estimators=355, max_features=sqrt, min_samples_leaf=2, min_samples_split=5, bootstrap=False, total=  21.5s\n",
      "[CV] max_depth=None, n_estimators=200, max_features=sqrt, min_samples_leaf=1, min_samples_split=2, bootstrap=False \n",
      "[CV]  max_depth=63, n_estimators=200, max_features=auto, min_samples_leaf=4, min_samples_split=2, bootstrap=False, total=  54.1s\n",
      "[CV] max_depth=None, n_estimators=200, max_features=sqrt, min_samples_leaf=1, min_samples_split=2, bootstrap=False \n",
      "[CV]  max_depth=None, n_estimators=200, max_features=sqrt, min_samples_leaf=1, min_samples_split=2, bootstrap=False, total=  15.8s\n",
      "[CV] max_depth=56, n_estimators=200, max_features=sqrt, min_samples_leaf=1, min_samples_split=2, bootstrap=True \n",
      "[CV]  max_depth=None, n_estimators=200, max_features=sqrt, min_samples_leaf=1, min_samples_split=2, bootstrap=False, total=  14.6s\n",
      "[CV] max_depth=56, n_estimators=200, max_features=sqrt, min_samples_leaf=1, min_samples_split=2, bootstrap=True \n",
      "[CV]  max_depth=103, n_estimators=355, max_features=sqrt, min_samples_leaf=2, min_samples_split=5, bootstrap=False, total=  20.3s\n",
      "[CV] max_depth=56, n_estimators=200, max_features=sqrt, min_samples_leaf=1, min_samples_split=2, bootstrap=True \n",
      "[CV]  max_depth=None, n_estimators=200, max_features=sqrt, min_samples_leaf=1, min_samples_split=2, bootstrap=False, total=  13.3s\n",
      "[CV] max_depth=56, n_estimators=377, max_features=auto, min_samples_leaf=1, min_samples_split=5, bootstrap=False \n",
      "[CV]  max_depth=56, n_estimators=200, max_features=sqrt, min_samples_leaf=1, min_samples_split=2, bootstrap=True, total=   9.1s\n",
      "[CV] max_depth=56, n_estimators=377, max_features=auto, min_samples_leaf=1, min_samples_split=5, bootstrap=False \n",
      "[CV]  max_depth=56, n_estimators=200, max_features=sqrt, min_samples_leaf=1, min_samples_split=2, bootstrap=True, total=  10.7s\n",
      "[CV] max_depth=56, n_estimators=377, max_features=auto, min_samples_leaf=1, min_samples_split=5, bootstrap=False \n",
      "[CV]  max_depth=56, n_estimators=200, max_features=sqrt, min_samples_leaf=1, min_samples_split=2, bootstrap=True, total=  10.9s\n",
      "[CV] max_depth=103, n_estimators=200, max_features=sqrt, min_samples_leaf=4, min_samples_split=10, bootstrap=True \n",
      "[CV]  max_depth=103, n_estimators=200, max_features=sqrt, min_samples_leaf=4, min_samples_split=10, bootstrap=True, total=   6.6s\n",
      "[CV] max_depth=103, n_estimators=200, max_features=sqrt, min_samples_leaf=4, min_samples_split=10, bootstrap=True \n",
      "[CV]  max_depth=103, n_estimators=200, max_features=sqrt, min_samples_leaf=4, min_samples_split=10, bootstrap=True, total=   7.3s\n",
      "[CV] max_depth=103, n_estimators=200, max_features=sqrt, min_samples_leaf=4, min_samples_split=10, bootstrap=True \n",
      "[CV]  max_depth=103, n_estimators=200, max_features=sqrt, min_samples_leaf=4, min_samples_split=10, bootstrap=True, total=   7.0s\n",
      "[CV] max_depth=110, n_estimators=311, max_features=sqrt, min_samples_leaf=2, min_samples_split=2, bootstrap=True \n",
      "[CV]  max_depth=110, n_estimators=311, max_features=sqrt, min_samples_leaf=2, min_samples_split=2, bootstrap=True, total=  13.2s\n",
      "[CV] max_depth=110, n_estimators=311, max_features=sqrt, min_samples_leaf=2, min_samples_split=2, bootstrap=True \n",
      "[CV]  max_depth=110, n_estimators=311, max_features=sqrt, min_samples_leaf=2, min_samples_split=2, bootstrap=True, total=  12.1s\n",
      "[CV] max_depth=110, n_estimators=311, max_features=sqrt, min_samples_leaf=2, min_samples_split=2, bootstrap=True \n",
      "[CV]  max_depth=110, n_estimators=311, max_features=sqrt, min_samples_leaf=2, min_samples_split=2, bootstrap=True, total=  14.0s\n",
      "[CV] max_depth=110, n_estimators=311, max_features=sqrt, min_samples_leaf=4, min_samples_split=10, bootstrap=True \n",
      "[CV]  max_depth=110, n_estimators=311, max_features=sqrt, min_samples_leaf=4, min_samples_split=10, bootstrap=True, total=  12.1s\n",
      "[CV] max_depth=110, n_estimators=311, max_features=sqrt, min_samples_leaf=4, min_samples_split=10, bootstrap=True \n",
      "[CV]  max_depth=110, n_estimators=311, max_features=sqrt, min_samples_leaf=4, min_samples_split=10, bootstrap=True, total=  10.7s\n",
      "[CV] max_depth=110, n_estimators=311, max_features=sqrt, min_samples_leaf=4, min_samples_split=10, bootstrap=True \n",
      "[CV]  max_depth=110, n_estimators=311, max_features=sqrt, min_samples_leaf=4, min_samples_split=10, bootstrap=True, total=  11.8s\n",
      "[CV] max_depth=56, n_estimators=222, max_features=auto, min_samples_leaf=2, min_samples_split=2, bootstrap=True \n",
      "[CV]  max_depth=56, n_estimators=377, max_features=auto, min_samples_leaf=1, min_samples_split=5, bootstrap=False, total= 2.0min\n",
      "[CV] max_depth=56, n_estimators=222, max_features=auto, min_samples_leaf=2, min_samples_split=2, bootstrap=True \n",
      "[CV]  max_depth=56, n_estimators=377, max_features=auto, min_samples_leaf=1, min_samples_split=5, bootstrap=False, total= 2.0min\n",
      "[CV] max_depth=56, n_estimators=222, max_features=auto, min_samples_leaf=2, min_samples_split=2, bootstrap=True \n",
      "[CV]  max_depth=56, n_estimators=377, max_features=auto, min_samples_leaf=1, min_samples_split=5, bootstrap=False, total= 2.1min\n",
      "[CV] max_depth=96, n_estimators=355, max_features=sqrt, min_samples_leaf=2, min_samples_split=5, bootstrap=False \n",
      "[CV]  max_depth=96, n_estimators=355, max_features=sqrt, min_samples_leaf=2, min_samples_split=5, bootstrap=False, total=  21.7s\n",
      "[CV] max_depth=96, n_estimators=355, max_features=sqrt, min_samples_leaf=2, min_samples_split=5, bootstrap=False \n",
      "[CV]  max_depth=56, n_estimators=222, max_features=auto, min_samples_leaf=2, min_samples_split=2, bootstrap=True, total=  43.9s\n",
      "[CV] max_depth=96, n_estimators=355, max_features=sqrt, min_samples_leaf=2, min_samples_split=5, bootstrap=False \n",
      "[CV]  max_depth=56, n_estimators=222, max_features=auto, min_samples_leaf=2, min_samples_split=2, bootstrap=True, total=  44.8s\n",
      "[CV] max_depth=110, n_estimators=222, max_features=auto, min_samples_leaf=1, min_samples_split=10, bootstrap=True \n",
      "[CV]  max_depth=56, n_estimators=222, max_features=auto, min_samples_leaf=2, min_samples_split=2, bootstrap=True, total=  43.9s\n",
      "[CV] max_depth=110, n_estimators=222, max_features=auto, min_samples_leaf=1, min_samples_split=10, bootstrap=True \n",
      "[CV]  max_depth=96, n_estimators=355, max_features=sqrt, min_samples_leaf=2, min_samples_split=5, bootstrap=False, total=  23.2s\n",
      "[CV]  max_depth=96, n_estimators=355, max_features=sqrt, min_samples_leaf=2, min_samples_split=5, bootstrap=False, total=  23.0s\n",
      "[CV] max_depth=90, n_estimators=400, max_features=auto, min_samples_leaf=4, min_samples_split=2, bootstrap=False \n",
      "[CV] max_depth=110, n_estimators=222, max_features=auto, min_samples_leaf=1, min_samples_split=10, bootstrap=True \n",
      "[CV]  max_depth=110, n_estimators=222, max_features=auto, min_samples_leaf=1, min_samples_split=10, bootstrap=True, total=  39.8s\n",
      "[CV] max_depth=90, n_estimators=400, max_features=auto, min_samples_leaf=4, min_samples_split=2, bootstrap=False \n",
      "[CV]  max_depth=110, n_estimators=222, max_features=auto, min_samples_leaf=1, min_samples_split=10, bootstrap=True, total=  40.1s\n",
      "[CV] max_depth=90, n_estimators=400, max_features=auto, min_samples_leaf=4, min_samples_split=2, bootstrap=False \n",
      "[CV]  max_depth=110, n_estimators=222, max_features=auto, min_samples_leaf=1, min_samples_split=10, bootstrap=True, total=  45.4s\n",
      "[CV] max_depth=50, n_estimators=288, max_features=auto, min_samples_leaf=1, min_samples_split=5, bootstrap=True \n",
      "[CV]  max_depth=50, n_estimators=288, max_features=auto, min_samples_leaf=1, min_samples_split=5, bootstrap=True, total= 1.2min\n",
      "[CV] max_depth=50, n_estimators=288, max_features=auto, min_samples_leaf=1, min_samples_split=5, bootstrap=True \n",
      "[CV]  max_depth=90, n_estimators=400, max_features=auto, min_samples_leaf=4, min_samples_split=2, bootstrap=False, total= 2.1min\n",
      "[CV] max_depth=50, n_estimators=288, max_features=auto, min_samples_leaf=1, min_samples_split=5, bootstrap=True \n",
      "[CV]  max_depth=90, n_estimators=400, max_features=auto, min_samples_leaf=4, min_samples_split=2, bootstrap=False, total= 2.0min\n",
      "[CV] max_depth=76, n_estimators=200, max_features=sqrt, min_samples_leaf=2, min_samples_split=2, bootstrap=False \n"
     ]
    },
    {
     "name": "stdout",
     "output_type": "stream",
     "text": [
      "[CV]  max_depth=90, n_estimators=400, max_features=auto, min_samples_leaf=4, min_samples_split=2, bootstrap=False, total= 2.1min\n",
      "[CV] max_depth=76, n_estimators=200, max_features=sqrt, min_samples_leaf=2, min_samples_split=2, bootstrap=False \n",
      "[CV]  max_depth=76, n_estimators=200, max_features=sqrt, min_samples_leaf=2, min_samples_split=2, bootstrap=False, total=  14.5s\n",
      "[CV] max_depth=76, n_estimators=200, max_features=sqrt, min_samples_leaf=2, min_samples_split=2, bootstrap=False \n",
      "[CV]  max_depth=76, n_estimators=200, max_features=sqrt, min_samples_leaf=2, min_samples_split=2, bootstrap=False, total=  14.3s\n",
      "[CV] max_depth=None, n_estimators=244, max_features=sqrt, min_samples_leaf=1, min_samples_split=10, bootstrap=True \n",
      "[CV]  max_depth=50, n_estimators=288, max_features=auto, min_samples_leaf=1, min_samples_split=5, bootstrap=True, total=  59.7s\n",
      "[CV] max_depth=None, n_estimators=244, max_features=sqrt, min_samples_leaf=1, min_samples_split=10, bootstrap=True \n",
      "[CV]  max_depth=None, n_estimators=244, max_features=sqrt, min_samples_leaf=1, min_samples_split=10, bootstrap=True, total=   7.8s\n",
      "[CV] max_depth=None, n_estimators=244, max_features=sqrt, min_samples_leaf=1, min_samples_split=10, bootstrap=True \n",
      "[CV]  max_depth=76, n_estimators=200, max_features=sqrt, min_samples_leaf=2, min_samples_split=2, bootstrap=False, total=  13.0s\n",
      "[CV] max_depth=63, n_estimators=200, max_features=sqrt, min_samples_leaf=4, min_samples_split=5, bootstrap=False \n",
      "[CV]  max_depth=50, n_estimators=288, max_features=auto, min_samples_leaf=1, min_samples_split=5, bootstrap=True, total=  59.4s\n",
      "[CV] max_depth=63, n_estimators=200, max_features=sqrt, min_samples_leaf=4, min_samples_split=5, bootstrap=False \n",
      "[CV]  max_depth=None, n_estimators=244, max_features=sqrt, min_samples_leaf=1, min_samples_split=10, bootstrap=True, total=   8.1s\n",
      "[CV] max_depth=63, n_estimators=200, max_features=sqrt, min_samples_leaf=4, min_samples_split=5, bootstrap=False \n",
      "[CV]  max_depth=None, n_estimators=244, max_features=sqrt, min_samples_leaf=1, min_samples_split=10, bootstrap=True, total=   8.7s\n",
      "[CV] max_depth=56, n_estimators=377, max_features=sqrt, min_samples_leaf=1, min_samples_split=5, bootstrap=False \n",
      "[CV]  max_depth=63, n_estimators=200, max_features=sqrt, min_samples_leaf=4, min_samples_split=5, bootstrap=False, total=   9.7s\n",
      "[CV] max_depth=56, n_estimators=377, max_features=sqrt, min_samples_leaf=1, min_samples_split=5, bootstrap=False \n",
      "[CV]  max_depth=63, n_estimators=200, max_features=sqrt, min_samples_leaf=4, min_samples_split=5, bootstrap=False, total=  10.3s\n",
      "[CV] max_depth=56, n_estimators=377, max_features=sqrt, min_samples_leaf=1, min_samples_split=5, bootstrap=False \n",
      "[CV]  max_depth=63, n_estimators=200, max_features=sqrt, min_samples_leaf=4, min_samples_split=5, bootstrap=False, total=  10.4s\n",
      "[CV] max_depth=96, n_estimators=222, max_features=sqrt, min_samples_leaf=2, min_samples_split=2, bootstrap=False \n",
      "[CV]  max_depth=96, n_estimators=222, max_features=sqrt, min_samples_leaf=2, min_samples_split=2, bootstrap=False, total=  12.9s\n",
      "[CV] max_depth=96, n_estimators=222, max_features=sqrt, min_samples_leaf=2, min_samples_split=2, bootstrap=False \n",
      "[CV]  max_depth=56, n_estimators=377, max_features=sqrt, min_samples_leaf=1, min_samples_split=5, bootstrap=False, total=  22.1s\n",
      "[CV] max_depth=96, n_estimators=222, max_features=sqrt, min_samples_leaf=2, min_samples_split=2, bootstrap=False \n",
      "[CV]  max_depth=56, n_estimators=377, max_features=sqrt, min_samples_leaf=1, min_samples_split=5, bootstrap=False, total=  21.2s\n",
      "[CV] max_depth=50, n_estimators=266, max_features=auto, min_samples_leaf=1, min_samples_split=10, bootstrap=False \n",
      "[CV]  max_depth=56, n_estimators=377, max_features=sqrt, min_samples_leaf=1, min_samples_split=5, bootstrap=False, total=  22.4s\n",
      "[CV] max_depth=50, n_estimators=266, max_features=auto, min_samples_leaf=1, min_samples_split=10, bootstrap=False \n",
      "[CV]  max_depth=96, n_estimators=222, max_features=sqrt, min_samples_leaf=2, min_samples_split=2, bootstrap=False, total=  11.8s\n",
      "[CV] max_depth=50, n_estimators=266, max_features=auto, min_samples_leaf=1, min_samples_split=10, bootstrap=False \n",
      "[CV]  max_depth=96, n_estimators=222, max_features=sqrt, min_samples_leaf=2, min_samples_split=2, bootstrap=False, total=  12.5s\n",
      "[CV] max_depth=None, n_estimators=200, max_features=auto, min_samples_leaf=1, min_samples_split=5, bootstrap=False \n",
      "[CV]  max_depth=50, n_estimators=266, max_features=auto, min_samples_leaf=1, min_samples_split=10, bootstrap=False, total= 1.1min\n",
      "[CV] max_depth=None, n_estimators=200, max_features=auto, min_samples_leaf=1, min_samples_split=5, bootstrap=False \n",
      "[CV]  max_depth=None, n_estimators=200, max_features=auto, min_samples_leaf=1, min_samples_split=5, bootstrap=False, total=  59.2s\n",
      "[CV] max_depth=None, n_estimators=200, max_features=auto, min_samples_leaf=1, min_samples_split=5, bootstrap=False \n",
      "[CV]  max_depth=50, n_estimators=266, max_features=auto, min_samples_leaf=1, min_samples_split=10, bootstrap=False, total= 1.2min\n",
      "[CV] max_depth=83, n_estimators=244, max_features=auto, min_samples_leaf=1, min_samples_split=5, bootstrap=True \n",
      "[CV]  max_depth=50, n_estimators=266, max_features=auto, min_samples_leaf=1, min_samples_split=10, bootstrap=False, total= 1.1min\n",
      "[CV] max_depth=83, n_estimators=244, max_features=auto, min_samples_leaf=1, min_samples_split=5, bootstrap=True \n",
      "[CV]  max_depth=83, n_estimators=244, max_features=auto, min_samples_leaf=1, min_samples_split=5, bootstrap=True, total=  45.0s\n",
      "[CV] max_depth=83, n_estimators=244, max_features=auto, min_samples_leaf=1, min_samples_split=5, bootstrap=True \n",
      "[CV]  max_depth=83, n_estimators=244, max_features=auto, min_samples_leaf=1, min_samples_split=5, bootstrap=True, total=  46.4s\n",
      "[CV] max_depth=56, n_estimators=200, max_features=auto, min_samples_leaf=4, min_samples_split=2, bootstrap=True \n",
      "[CV]  max_depth=None, n_estimators=200, max_features=auto, min_samples_leaf=1, min_samples_split=5, bootstrap=False, total=  58.8s\n",
      "[CV] max_depth=56, n_estimators=200, max_features=auto, min_samples_leaf=4, min_samples_split=2, bootstrap=True \n",
      "[CV]  max_depth=None, n_estimators=200, max_features=auto, min_samples_leaf=1, min_samples_split=5, bootstrap=False, total=  58.1s\n",
      "[CV] max_depth=56, n_estimators=200, max_features=auto, min_samples_leaf=4, min_samples_split=2, bootstrap=True \n",
      "[CV]  max_depth=56, n_estimators=200, max_features=auto, min_samples_leaf=4, min_samples_split=2, bootstrap=True, total=  31.5s\n",
      "[CV] max_depth=76, n_estimators=377, max_features=sqrt, min_samples_leaf=1, min_samples_split=2, bootstrap=True \n",
      "[CV]  max_depth=56, n_estimators=200, max_features=auto, min_samples_leaf=4, min_samples_split=2, bootstrap=True, total=  34.3s\n",
      "[CV] max_depth=76, n_estimators=377, max_features=sqrt, min_samples_leaf=1, min_samples_split=2, bootstrap=True \n",
      "[CV]  max_depth=56, n_estimators=200, max_features=auto, min_samples_leaf=4, min_samples_split=2, bootstrap=True, total=  33.1s\n",
      "[CV] max_depth=76, n_estimators=377, max_features=sqrt, min_samples_leaf=1, min_samples_split=2, bootstrap=True \n",
      "[CV]  max_depth=83, n_estimators=244, max_features=auto, min_samples_leaf=1, min_samples_split=5, bootstrap=True, total=  47.7s\n",
      "[CV] max_depth=76, n_estimators=355, max_features=sqrt, min_samples_leaf=4, min_samples_split=10, bootstrap=True \n",
      "[CV]  max_depth=76, n_estimators=377, max_features=sqrt, min_samples_leaf=1, min_samples_split=2, bootstrap=True, total=  19.2s\n",
      "[CV] max_depth=76, n_estimators=355, max_features=sqrt, min_samples_leaf=4, min_samples_split=10, bootstrap=True \n",
      "[CV]  max_depth=76, n_estimators=355, max_features=sqrt, min_samples_leaf=4, min_samples_split=10, bootstrap=True, total=  11.4s\n",
      "[CV] max_depth=76, n_estimators=355, max_features=sqrt, min_samples_leaf=4, min_samples_split=10, bootstrap=True \n",
      "[CV]  max_depth=76, n_estimators=377, max_features=sqrt, min_samples_leaf=1, min_samples_split=2, bootstrap=True, total=  18.5s\n",
      "[CV] max_depth=76, n_estimators=288, max_features=auto, min_samples_leaf=1, min_samples_split=10, bootstrap=True \n",
      "[CV]  max_depth=76, n_estimators=377, max_features=sqrt, min_samples_leaf=1, min_samples_split=2, bootstrap=True, total=  18.6s\n",
      "[CV] max_depth=76, n_estimators=288, max_features=auto, min_samples_leaf=1, min_samples_split=10, bootstrap=True \n"
     ]
    },
    {
     "name": "stdout",
     "output_type": "stream",
     "text": [
      "[CV]  max_depth=76, n_estimators=355, max_features=sqrt, min_samples_leaf=4, min_samples_split=10, bootstrap=True, total=  11.6s\n",
      "[CV] max_depth=76, n_estimators=288, max_features=auto, min_samples_leaf=1, min_samples_split=10, bootstrap=True \n",
      "[CV]  max_depth=76, n_estimators=355, max_features=sqrt, min_samples_leaf=4, min_samples_split=10, bootstrap=True, total=  11.5s\n",
      "[CV] max_depth=50, n_estimators=200, max_features=auto, min_samples_leaf=4, min_samples_split=5, bootstrap=True \n",
      "[CV]  max_depth=50, n_estimators=200, max_features=auto, min_samples_leaf=4, min_samples_split=5, bootstrap=True, total=  28.6s\n",
      "[CV] max_depth=50, n_estimators=200, max_features=auto, min_samples_leaf=4, min_samples_split=5, bootstrap=True \n",
      "[CV]  max_depth=76, n_estimators=288, max_features=auto, min_samples_leaf=1, min_samples_split=10, bootstrap=True, total=  43.6s\n",
      "[CV] max_depth=50, n_estimators=200, max_features=auto, min_samples_leaf=4, min_samples_split=5, bootstrap=True \n",
      "[CV]  max_depth=76, n_estimators=288, max_features=auto, min_samples_leaf=1, min_samples_split=10, bootstrap=True, total=  43.1s\n",
      "[CV] max_depth=76, n_estimators=400, max_features=sqrt, min_samples_leaf=1, min_samples_split=5, bootstrap=True \n",
      "[CV]  max_depth=76, n_estimators=288, max_features=auto, min_samples_leaf=1, min_samples_split=10, bootstrap=True, total=  43.7s\n",
      "[CV] max_depth=76, n_estimators=400, max_features=sqrt, min_samples_leaf=1, min_samples_split=5, bootstrap=True \n",
      "[CV]  max_depth=76, n_estimators=400, max_features=sqrt, min_samples_leaf=1, min_samples_split=5, bootstrap=True, total=  15.1s\n",
      "[CV] max_depth=76, n_estimators=400, max_features=sqrt, min_samples_leaf=1, min_samples_split=5, bootstrap=True \n",
      "[CV]  max_depth=76, n_estimators=400, max_features=sqrt, min_samples_leaf=1, min_samples_split=5, bootstrap=True, total=  15.6s\n",
      "[CV] max_depth=96, n_estimators=377, max_features=auto, min_samples_leaf=2, min_samples_split=5, bootstrap=False \n",
      "[CV]  max_depth=50, n_estimators=200, max_features=auto, min_samples_leaf=4, min_samples_split=5, bootstrap=True, total=  29.9s\n",
      "[CV] max_depth=96, n_estimators=377, max_features=auto, min_samples_leaf=2, min_samples_split=5, bootstrap=False \n",
      "[CV]  max_depth=50, n_estimators=200, max_features=auto, min_samples_leaf=4, min_samples_split=5, bootstrap=True, total=  31.3s\n",
      "[CV] max_depth=96, n_estimators=377, max_features=auto, min_samples_leaf=2, min_samples_split=5, bootstrap=False \n",
      "[CV]  max_depth=76, n_estimators=400, max_features=sqrt, min_samples_leaf=1, min_samples_split=5, bootstrap=True, total=  17.4s\n",
      "[CV] max_depth=70, n_estimators=377, max_features=auto, min_samples_leaf=1, min_samples_split=10, bootstrap=True \n",
      "[CV]  max_depth=70, n_estimators=377, max_features=auto, min_samples_leaf=1, min_samples_split=10, bootstrap=True, total= 1.1min\n",
      "[CV] max_depth=70, n_estimators=377, max_features=auto, min_samples_leaf=1, min_samples_split=10, bootstrap=True \n",
      "[CV]  max_depth=96, n_estimators=377, max_features=auto, min_samples_leaf=2, min_samples_split=5, bootstrap=False, total= 2.0min\n",
      "[CV] max_depth=70, n_estimators=377, max_features=auto, min_samples_leaf=1, min_samples_split=10, bootstrap=True \n",
      "[CV]  max_depth=96, n_estimators=377, max_features=auto, min_samples_leaf=2, min_samples_split=5, bootstrap=False, total= 2.0min\n",
      "[CV] max_depth=83, n_estimators=244, max_features=auto, min_samples_leaf=2, min_samples_split=2, bootstrap=True \n",
      "[CV]  max_depth=96, n_estimators=377, max_features=auto, min_samples_leaf=2, min_samples_split=5, bootstrap=False, total= 2.1min\n",
      "[CV] max_depth=83, n_estimators=244, max_features=auto, min_samples_leaf=2, min_samples_split=2, bootstrap=True \n",
      "[CV]  max_depth=70, n_estimators=377, max_features=auto, min_samples_leaf=1, min_samples_split=10, bootstrap=True, total= 1.2min\n",
      "[CV] max_depth=83, n_estimators=244, max_features=auto, min_samples_leaf=2, min_samples_split=2, bootstrap=True \n",
      "[CV]  max_depth=83, n_estimators=244, max_features=auto, min_samples_leaf=2, min_samples_split=2, bootstrap=True, total=  54.2s\n",
      "[CV] max_depth=None, n_estimators=400, max_features=auto, min_samples_leaf=1, min_samples_split=5, bootstrap=False \n",
      "[CV]  max_depth=83, n_estimators=244, max_features=auto, min_samples_leaf=2, min_samples_split=2, bootstrap=True, total=  50.0s\n",
      "[CV] max_depth=None, n_estimators=400, max_features=auto, min_samples_leaf=1, min_samples_split=5, bootstrap=False \n"
     ]
    },
    {
     "name": "stderr",
     "output_type": "stream",
     "text": [
      "[Parallel(n_jobs=-1)]: Done 154 tasks      | elapsed: 25.7min\n"
     ]
    },
    {
     "name": "stdout",
     "output_type": "stream",
     "text": [
      "[CV]  max_depth=70, n_estimators=377, max_features=auto, min_samples_leaf=1, min_samples_split=10, bootstrap=True, total= 1.2min\n",
      "[CV] max_depth=None, n_estimators=400, max_features=auto, min_samples_leaf=1, min_samples_split=5, bootstrap=False \n",
      "[CV]  max_depth=83, n_estimators=244, max_features=auto, min_samples_leaf=2, min_samples_split=2, bootstrap=True, total=  53.3s\n",
      "[CV] max_depth=50, n_estimators=377, max_features=auto, min_samples_leaf=1, min_samples_split=2, bootstrap=True \n",
      "[CV]  max_depth=50, n_estimators=377, max_features=auto, min_samples_leaf=1, min_samples_split=2, bootstrap=True, total= 1.6min\n",
      "[CV] max_depth=50, n_estimators=377, max_features=auto, min_samples_leaf=1, min_samples_split=2, bootstrap=True \n",
      "[CV]  max_depth=None, n_estimators=400, max_features=auto, min_samples_leaf=1, min_samples_split=5, bootstrap=False, total= 2.3min\n",
      "[CV] max_depth=50, n_estimators=377, max_features=auto, min_samples_leaf=1, min_samples_split=2, bootstrap=True \n",
      "[CV]  max_depth=None, n_estimators=400, max_features=auto, min_samples_leaf=1, min_samples_split=5, bootstrap=False, total= 2.3min\n",
      "[CV] max_depth=None, n_estimators=355, max_features=auto, min_samples_leaf=1, min_samples_split=10, bootstrap=False \n",
      "[CV]  max_depth=None, n_estimators=400, max_features=auto, min_samples_leaf=1, min_samples_split=5, bootstrap=False, total= 2.3min\n",
      "[CV] max_depth=None, n_estimators=355, max_features=auto, min_samples_leaf=1, min_samples_split=10, bootstrap=False \n",
      "[CV]  max_depth=50, n_estimators=377, max_features=auto, min_samples_leaf=1, min_samples_split=2, bootstrap=True, total= 1.3min\n",
      "[CV] max_depth=None, n_estimators=355, max_features=auto, min_samples_leaf=1, min_samples_split=10, bootstrap=False \n",
      "[CV]  max_depth=50, n_estimators=377, max_features=auto, min_samples_leaf=1, min_samples_split=2, bootstrap=True, total= 1.3min\n",
      "[CV] max_depth=63, n_estimators=377, max_features=auto, min_samples_leaf=4, min_samples_split=5, bootstrap=True \n",
      "[CV]  max_depth=None, n_estimators=355, max_features=auto, min_samples_leaf=1, min_samples_split=10, bootstrap=False, total= 1.5min\n",
      "[CV] max_depth=63, n_estimators=377, max_features=auto, min_samples_leaf=4, min_samples_split=5, bootstrap=True \n",
      "[CV]  max_depth=None, n_estimators=355, max_features=auto, min_samples_leaf=1, min_samples_split=10, bootstrap=False, total= 1.6min\n",
      "[CV] max_depth=63, n_estimators=377, max_features=auto, min_samples_leaf=4, min_samples_split=5, bootstrap=True \n",
      "[CV]  max_depth=63, n_estimators=377, max_features=auto, min_samples_leaf=4, min_samples_split=5, bootstrap=True, total= 1.1min\n",
      "[CV] max_depth=110, n_estimators=355, max_features=sqrt, min_samples_leaf=4, min_samples_split=2, bootstrap=True \n",
      "[CV]  max_depth=110, n_estimators=355, max_features=sqrt, min_samples_leaf=4, min_samples_split=2, bootstrap=True, total=  13.1s\n",
      "[CV] max_depth=110, n_estimators=355, max_features=sqrt, min_samples_leaf=4, min_samples_split=2, bootstrap=True \n",
      "[CV]  max_depth=63, n_estimators=377, max_features=auto, min_samples_leaf=4, min_samples_split=5, bootstrap=True, total= 1.1min\n",
      "[CV] max_depth=110, n_estimators=355, max_features=sqrt, min_samples_leaf=4, min_samples_split=2, bootstrap=True \n",
      "[CV]  max_depth=None, n_estimators=355, max_features=auto, min_samples_leaf=1, min_samples_split=10, bootstrap=False, total= 1.8min\n",
      "[CV] max_depth=103, n_estimators=400, max_features=auto, min_samples_leaf=1, min_samples_split=5, bootstrap=False \n",
      "[CV]  max_depth=110, n_estimators=355, max_features=sqrt, min_samples_leaf=4, min_samples_split=2, bootstrap=True, total=  14.9s\n",
      "[CV] max_depth=103, n_estimators=400, max_features=auto, min_samples_leaf=1, min_samples_split=5, bootstrap=False \n",
      "[CV]  max_depth=110, n_estimators=355, max_features=sqrt, min_samples_leaf=4, min_samples_split=2, bootstrap=True, total=  14.3s\n",
      "[CV] max_depth=103, n_estimators=400, max_features=auto, min_samples_leaf=1, min_samples_split=5, bootstrap=False \n",
      "[CV]  max_depth=63, n_estimators=377, max_features=auto, min_samples_leaf=4, min_samples_split=5, bootstrap=True, total= 1.2min\n",
      "[CV] max_depth=63, n_estimators=266, max_features=sqrt, min_samples_leaf=2, min_samples_split=5, bootstrap=False \n",
      "[CV]  max_depth=63, n_estimators=266, max_features=sqrt, min_samples_leaf=2, min_samples_split=5, bootstrap=False, total=  18.1s\n",
      "[CV] max_depth=63, n_estimators=266, max_features=sqrt, min_samples_leaf=2, min_samples_split=5, bootstrap=False \n",
      "[CV]  max_depth=63, n_estimators=266, max_features=sqrt, min_samples_leaf=2, min_samples_split=5, bootstrap=False, total=  19.9s\n",
      "[CV] max_depth=63, n_estimators=266, max_features=sqrt, min_samples_leaf=2, min_samples_split=5, bootstrap=False \n",
      "[CV]  max_depth=63, n_estimators=266, max_features=sqrt, min_samples_leaf=2, min_samples_split=5, bootstrap=False, total=  17.3s\n",
      "[CV] max_depth=83, n_estimators=400, max_features=auto, min_samples_leaf=1, min_samples_split=10, bootstrap=True \n",
      "[CV]  max_depth=103, n_estimators=400, max_features=auto, min_samples_leaf=1, min_samples_split=5, bootstrap=False, total= 2.2min\n",
      "[CV] max_depth=83, n_estimators=400, max_features=auto, min_samples_leaf=1, min_samples_split=10, bootstrap=True \n",
      "[CV]  max_depth=103, n_estimators=400, max_features=auto, min_samples_leaf=1, min_samples_split=5, bootstrap=False, total= 2.2min\n",
      "[CV] max_depth=83, n_estimators=400, max_features=auto, min_samples_leaf=1, min_samples_split=10, bootstrap=True \n",
      "[CV]  max_depth=103, n_estimators=400, max_features=auto, min_samples_leaf=1, min_samples_split=5, bootstrap=False, total= 2.3min\n",
      "[CV] max_depth=110, n_estimators=200, max_features=sqrt, min_samples_leaf=1, min_samples_split=5, bootstrap=False \n",
      "[CV]  max_depth=83, n_estimators=400, max_features=auto, min_samples_leaf=1, min_samples_split=10, bootstrap=True, total= 1.2min\n",
      "[CV] max_depth=110, n_estimators=200, max_features=sqrt, min_samples_leaf=1, min_samples_split=5, bootstrap=False \n",
      "[CV]  max_depth=110, n_estimators=200, max_features=sqrt, min_samples_leaf=1, min_samples_split=5, bootstrap=False, total=   7.7s\n",
      "[CV] max_depth=110, n_estimators=200, max_features=sqrt, min_samples_leaf=1, min_samples_split=5, bootstrap=False \n",
      "[CV]  max_depth=110, n_estimators=200, max_features=sqrt, min_samples_leaf=1, min_samples_split=5, bootstrap=False, total=   9.0s\n",
      "[CV] max_depth=83, n_estimators=333, max_features=sqrt, min_samples_leaf=2, min_samples_split=10, bootstrap=False \n",
      "[CV]  max_depth=110, n_estimators=200, max_features=sqrt, min_samples_leaf=1, min_samples_split=5, bootstrap=False, total=   7.9s\n",
      "[CV] max_depth=83, n_estimators=333, max_features=sqrt, min_samples_leaf=2, min_samples_split=10, bootstrap=False \n",
      "[CV]  max_depth=83, n_estimators=333, max_features=sqrt, min_samples_leaf=2, min_samples_split=10, bootstrap=False, total=  11.7s\n",
      "[CV] max_depth=83, n_estimators=333, max_features=sqrt, min_samples_leaf=2, min_samples_split=10, bootstrap=False \n",
      "[CV]  max_depth=83, n_estimators=333, max_features=sqrt, min_samples_leaf=2, min_samples_split=10, bootstrap=False, total=  11.9s\n",
      "[CV] max_depth=83, n_estimators=400, max_features=sqrt, min_samples_leaf=1, min_samples_split=2, bootstrap=True \n",
      "[CV]  max_depth=83, n_estimators=333, max_features=sqrt, min_samples_leaf=2, min_samples_split=10, bootstrap=False, total=  12.9s\n",
      "[CV] max_depth=83, n_estimators=400, max_features=sqrt, min_samples_leaf=1, min_samples_split=2, bootstrap=True \n",
      "[CV]  max_depth=83, n_estimators=400, max_features=auto, min_samples_leaf=1, min_samples_split=10, bootstrap=True, total=  43.4s\n",
      "[CV] max_depth=83, n_estimators=400, max_features=sqrt, min_samples_leaf=1, min_samples_split=2, bootstrap=True \n",
      "[CV]  max_depth=83, n_estimators=400, max_features=auto, min_samples_leaf=1, min_samples_split=10, bootstrap=True, total=  44.7s\n",
      "[CV] max_depth=110, n_estimators=311, max_features=sqrt, min_samples_leaf=2, min_samples_split=10, bootstrap=True \n",
      "[CV]  max_depth=83, n_estimators=400, max_features=sqrt, min_samples_leaf=1, min_samples_split=2, bootstrap=True, total=  14.4s\n",
      "[CV] max_depth=110, n_estimators=311, max_features=sqrt, min_samples_leaf=2, min_samples_split=10, bootstrap=True \n",
      "[CV]  max_depth=110, n_estimators=311, max_features=sqrt, min_samples_leaf=2, min_samples_split=10, bootstrap=True, total=   6.4s\n",
      "[CV] max_depth=110, n_estimators=311, max_features=sqrt, min_samples_leaf=2, min_samples_split=10, bootstrap=True \n"
     ]
    },
    {
     "name": "stdout",
     "output_type": "stream",
     "text": [
      "[CV]  max_depth=83, n_estimators=400, max_features=sqrt, min_samples_leaf=1, min_samples_split=2, bootstrap=True, total=  14.4s\n",
      "[CV] max_depth=63, n_estimators=222, max_features=auto, min_samples_leaf=4, min_samples_split=2, bootstrap=False \n",
      "[CV]  max_depth=110, n_estimators=311, max_features=sqrt, min_samples_leaf=2, min_samples_split=10, bootstrap=True, total=   7.8s\n",
      "[CV] max_depth=63, n_estimators=222, max_features=auto, min_samples_leaf=4, min_samples_split=2, bootstrap=False \n",
      "[CV]  max_depth=83, n_estimators=400, max_features=sqrt, min_samples_leaf=1, min_samples_split=2, bootstrap=True, total=  13.8s\n",
      "[CV] max_depth=63, n_estimators=222, max_features=auto, min_samples_leaf=4, min_samples_split=2, bootstrap=False \n",
      "[CV]  max_depth=110, n_estimators=311, max_features=sqrt, min_samples_leaf=2, min_samples_split=10, bootstrap=True, total=   8.0s\n",
      "[CV] max_depth=76, n_estimators=311, max_features=auto, min_samples_leaf=4, min_samples_split=10, bootstrap=True \n",
      "[CV]  max_depth=63, n_estimators=222, max_features=auto, min_samples_leaf=4, min_samples_split=2, bootstrap=False, total=  33.0s\n",
      "[CV] max_depth=76, n_estimators=311, max_features=auto, min_samples_leaf=4, min_samples_split=10, bootstrap=True \n",
      "[CV]  max_depth=76, n_estimators=311, max_features=auto, min_samples_leaf=4, min_samples_split=10, bootstrap=True, total=  30.8s\n",
      "[CV] max_depth=76, n_estimators=311, max_features=auto, min_samples_leaf=4, min_samples_split=10, bootstrap=True \n",
      "[CV]  max_depth=63, n_estimators=222, max_features=auto, min_samples_leaf=4, min_samples_split=2, bootstrap=False, total=  40.7s\n",
      "[CV] max_depth=50, n_estimators=400, max_features=auto, min_samples_leaf=2, min_samples_split=2, bootstrap=False \n",
      "[CV]  max_depth=63, n_estimators=222, max_features=auto, min_samples_leaf=4, min_samples_split=2, bootstrap=False, total=  38.4s\n",
      "[CV] max_depth=50, n_estimators=400, max_features=auto, min_samples_leaf=2, min_samples_split=2, bootstrap=False \n",
      "[CV]  max_depth=76, n_estimators=311, max_features=auto, min_samples_leaf=4, min_samples_split=10, bootstrap=True, total=  29.6s\n",
      "[CV] max_depth=50, n_estimators=400, max_features=auto, min_samples_leaf=2, min_samples_split=2, bootstrap=False \n",
      "[CV]  max_depth=76, n_estimators=311, max_features=auto, min_samples_leaf=4, min_samples_split=10, bootstrap=True, total=  31.5s\n",
      "[CV] max_depth=103, n_estimators=377, max_features=sqrt, min_samples_leaf=4, min_samples_split=10, bootstrap=False \n",
      "[CV]  max_depth=103, n_estimators=377, max_features=sqrt, min_samples_leaf=4, min_samples_split=10, bootstrap=False, total=  12.0s\n",
      "[CV] max_depth=103, n_estimators=377, max_features=sqrt, min_samples_leaf=4, min_samples_split=10, bootstrap=False \n",
      "[CV]  max_depth=103, n_estimators=377, max_features=sqrt, min_samples_leaf=4, min_samples_split=10, bootstrap=False, total=  11.9s\n",
      "[CV] max_depth=103, n_estimators=377, max_features=sqrt, min_samples_leaf=4, min_samples_split=10, bootstrap=False \n",
      "[CV]  max_depth=103, n_estimators=377, max_features=sqrt, min_samples_leaf=4, min_samples_split=10, bootstrap=False, total=  10.4s\n",
      "[CV] max_depth=96, n_estimators=200, max_features=sqrt, min_samples_leaf=2, min_samples_split=2, bootstrap=False \n",
      "[CV]  max_depth=96, n_estimators=200, max_features=sqrt, min_samples_leaf=2, min_samples_split=2, bootstrap=False, total=   7.9s\n",
      "[CV] max_depth=96, n_estimators=200, max_features=sqrt, min_samples_leaf=2, min_samples_split=2, bootstrap=False \n",
      "[CV]  max_depth=50, n_estimators=400, max_features=auto, min_samples_leaf=2, min_samples_split=2, bootstrap=False, total= 1.3min\n",
      "[CV] max_depth=96, n_estimators=200, max_features=sqrt, min_samples_leaf=2, min_samples_split=2, bootstrap=False \n",
      "[CV]  max_depth=50, n_estimators=400, max_features=auto, min_samples_leaf=2, min_samples_split=2, bootstrap=False, total= 1.3min\n",
      "[CV] max_depth=50, n_estimators=244, max_features=auto, min_samples_leaf=2, min_samples_split=2, bootstrap=True \n",
      "[CV]  max_depth=96, n_estimators=200, max_features=sqrt, min_samples_leaf=2, min_samples_split=2, bootstrap=False, total=   7.0s\n",
      "[CV] max_depth=50, n_estimators=244, max_features=auto, min_samples_leaf=2, min_samples_split=2, bootstrap=True \n",
      "[CV]  max_depth=96, n_estimators=200, max_features=sqrt, min_samples_leaf=2, min_samples_split=2, bootstrap=False, total=   7.1s\n",
      "[CV] max_depth=50, n_estimators=244, max_features=auto, min_samples_leaf=2, min_samples_split=2, bootstrap=True \n",
      "[CV]  max_depth=50, n_estimators=400, max_features=auto, min_samples_leaf=2, min_samples_split=2, bootstrap=False, total= 1.2min\n",
      "[CV] max_depth=None, n_estimators=244, max_features=auto, min_samples_leaf=1, min_samples_split=10, bootstrap=True \n",
      "[CV]  max_depth=50, n_estimators=244, max_features=auto, min_samples_leaf=2, min_samples_split=2, bootstrap=True, total=  25.9s\n",
      "[CV] max_depth=None, n_estimators=244, max_features=auto, min_samples_leaf=1, min_samples_split=10, bootstrap=True \n",
      "[CV]  max_depth=50, n_estimators=244, max_features=auto, min_samples_leaf=2, min_samples_split=2, bootstrap=True, total=  27.7s\n",
      "[CV] max_depth=None, n_estimators=244, max_features=auto, min_samples_leaf=1, min_samples_split=10, bootstrap=True \n",
      "[CV]  max_depth=50, n_estimators=244, max_features=auto, min_samples_leaf=2, min_samples_split=2, bootstrap=True, total=  24.8s\n",
      "[CV] max_depth=103, n_estimators=244, max_features=sqrt, min_samples_leaf=1, min_samples_split=2, bootstrap=True \n",
      "[CV]  max_depth=103, n_estimators=244, max_features=sqrt, min_samples_leaf=1, min_samples_split=2, bootstrap=True, total=   6.6s\n",
      "[CV] max_depth=103, n_estimators=244, max_features=sqrt, min_samples_leaf=1, min_samples_split=2, bootstrap=True \n",
      "[CV]  max_depth=None, n_estimators=244, max_features=auto, min_samples_leaf=1, min_samples_split=10, bootstrap=True, total=  22.6s\n",
      "[CV] max_depth=103, n_estimators=244, max_features=sqrt, min_samples_leaf=1, min_samples_split=2, bootstrap=True \n",
      "[CV]  max_depth=103, n_estimators=244, max_features=sqrt, min_samples_leaf=1, min_samples_split=2, bootstrap=True, total=   6.9s\n",
      "[CV] max_depth=76, n_estimators=311, max_features=sqrt, min_samples_leaf=2, min_samples_split=5, bootstrap=False \n",
      "[CV]  max_depth=103, n_estimators=244, max_features=sqrt, min_samples_leaf=1, min_samples_split=2, bootstrap=True, total=   6.7s\n",
      "[CV] max_depth=76, n_estimators=311, max_features=sqrt, min_samples_leaf=2, min_samples_split=5, bootstrap=False \n",
      "[CV]  max_depth=None, n_estimators=244, max_features=auto, min_samples_leaf=1, min_samples_split=10, bootstrap=True, total=  22.8s\n",
      "[CV] max_depth=76, n_estimators=311, max_features=sqrt, min_samples_leaf=2, min_samples_split=5, bootstrap=False \n",
      "[CV]  max_depth=None, n_estimators=244, max_features=auto, min_samples_leaf=1, min_samples_split=10, bootstrap=True, total=  22.7s\n",
      "[CV] max_depth=110, n_estimators=333, max_features=sqrt, min_samples_leaf=4, min_samples_split=5, bootstrap=False \n",
      "[CV]  max_depth=76, n_estimators=311, max_features=sqrt, min_samples_leaf=2, min_samples_split=5, bootstrap=False, total=  11.9s\n",
      "[CV] max_depth=110, n_estimators=333, max_features=sqrt, min_samples_leaf=4, min_samples_split=5, bootstrap=False \n",
      "[CV]  max_depth=76, n_estimators=311, max_features=sqrt, min_samples_leaf=2, min_samples_split=5, bootstrap=False, total=  12.1s\n",
      "[CV] max_depth=110, n_estimators=333, max_features=sqrt, min_samples_leaf=4, min_samples_split=5, bootstrap=False \n",
      "[CV]  max_depth=76, n_estimators=311, max_features=sqrt, min_samples_leaf=2, min_samples_split=5, bootstrap=False, total=  13.1s\n",
      "[CV] max_depth=50, n_estimators=333, max_features=auto, min_samples_leaf=2, min_samples_split=2, bootstrap=False \n",
      "[CV]  max_depth=110, n_estimators=333, max_features=sqrt, min_samples_leaf=4, min_samples_split=5, bootstrap=False, total=  11.9s\n",
      "[CV] max_depth=50, n_estimators=333, max_features=auto, min_samples_leaf=2, min_samples_split=2, bootstrap=False \n",
      "[CV]  max_depth=110, n_estimators=333, max_features=sqrt, min_samples_leaf=4, min_samples_split=5, bootstrap=False, total=   9.2s\n",
      "[CV] max_depth=50, n_estimators=333, max_features=auto, min_samples_leaf=2, min_samples_split=2, bootstrap=False \n",
      "[CV]  max_depth=110, n_estimators=333, max_features=sqrt, min_samples_leaf=4, min_samples_split=5, bootstrap=False, total=  10.9s\n",
      "[CV] max_depth=None, n_estimators=200, max_features=auto, min_samples_leaf=1, min_samples_split=2, bootstrap=True \n"
     ]
    },
    {
     "name": "stdout",
     "output_type": "stream",
     "text": [
      "[CV]  max_depth=None, n_estimators=200, max_features=auto, min_samples_leaf=1, min_samples_split=2, bootstrap=True, total=  24.8s\n",
      "[CV] max_depth=None, n_estimators=200, max_features=auto, min_samples_leaf=1, min_samples_split=2, bootstrap=True \n",
      "[CV]  max_depth=50, n_estimators=333, max_features=auto, min_samples_leaf=2, min_samples_split=2, bootstrap=False, total=  55.5s\n",
      "[CV] max_depth=None, n_estimators=200, max_features=auto, min_samples_leaf=1, min_samples_split=2, bootstrap=True \n",
      "[CV]  max_depth=None, n_estimators=200, max_features=auto, min_samples_leaf=1, min_samples_split=2, bootstrap=True, total=  26.2s\n",
      "[CV] max_depth=50, n_estimators=400, max_features=auto, min_samples_leaf=1, min_samples_split=5, bootstrap=False \n",
      "[CV]  max_depth=50, n_estimators=333, max_features=auto, min_samples_leaf=2, min_samples_split=2, bootstrap=False, total=  57.4s\n",
      "[CV] max_depth=50, n_estimators=400, max_features=auto, min_samples_leaf=1, min_samples_split=5, bootstrap=False \n",
      "[CV]  max_depth=50, n_estimators=333, max_features=auto, min_samples_leaf=2, min_samples_split=2, bootstrap=False, total=  58.3s\n",
      "[CV] max_depth=50, n_estimators=400, max_features=auto, min_samples_leaf=1, min_samples_split=5, bootstrap=False \n",
      "[CV]  max_depth=None, n_estimators=200, max_features=auto, min_samples_leaf=1, min_samples_split=2, bootstrap=True, total=  23.5s\n",
      "[CV] max_depth=90, n_estimators=311, max_features=sqrt, min_samples_leaf=2, min_samples_split=5, bootstrap=False \n",
      "[CV]  max_depth=90, n_estimators=311, max_features=sqrt, min_samples_leaf=2, min_samples_split=5, bootstrap=False, total=   9.7s\n",
      "[CV] max_depth=90, n_estimators=311, max_features=sqrt, min_samples_leaf=2, min_samples_split=5, bootstrap=False \n",
      "[CV]  max_depth=90, n_estimators=311, max_features=sqrt, min_samples_leaf=2, min_samples_split=5, bootstrap=False, total=  11.1s\n",
      "[CV] max_depth=90, n_estimators=311, max_features=sqrt, min_samples_leaf=2, min_samples_split=5, bootstrap=False \n",
      "[CV]  max_depth=90, n_estimators=311, max_features=sqrt, min_samples_leaf=2, min_samples_split=5, bootstrap=False, total=  12.1s\n",
      "[CV] max_depth=50, n_estimators=311, max_features=auto, min_samples_leaf=2, min_samples_split=2, bootstrap=False \n",
      "[CV]  max_depth=50, n_estimators=400, max_features=auto, min_samples_leaf=1, min_samples_split=5, bootstrap=False, total= 1.2min\n",
      "[CV] max_depth=50, n_estimators=311, max_features=auto, min_samples_leaf=2, min_samples_split=2, bootstrap=False \n",
      "[CV]  max_depth=50, n_estimators=400, max_features=auto, min_samples_leaf=1, min_samples_split=5, bootstrap=False, total= 1.2min\n",
      "[CV] max_depth=50, n_estimators=311, max_features=auto, min_samples_leaf=2, min_samples_split=2, bootstrap=False \n",
      "[CV]  max_depth=50, n_estimators=400, max_features=auto, min_samples_leaf=1, min_samples_split=5, bootstrap=False, total= 1.1min\n",
      "[CV] max_depth=63, n_estimators=244, max_features=auto, min_samples_leaf=4, min_samples_split=5, bootstrap=True \n",
      "[CV]  max_depth=63, n_estimators=244, max_features=auto, min_samples_leaf=4, min_samples_split=5, bootstrap=True, total=  26.7s\n",
      "[CV] max_depth=63, n_estimators=244, max_features=auto, min_samples_leaf=4, min_samples_split=5, bootstrap=True \n",
      "[CV]  max_depth=50, n_estimators=311, max_features=auto, min_samples_leaf=2, min_samples_split=2, bootstrap=False, total= 1.0min\n",
      "[CV] max_depth=63, n_estimators=244, max_features=auto, min_samples_leaf=4, min_samples_split=5, bootstrap=True \n",
      "[CV]  max_depth=63, n_estimators=244, max_features=auto, min_samples_leaf=4, min_samples_split=5, bootstrap=True, total=  25.2s\n",
      "[CV] max_depth=90, n_estimators=377, max_features=auto, min_samples_leaf=2, min_samples_split=5, bootstrap=True \n",
      "[CV]  max_depth=50, n_estimators=311, max_features=auto, min_samples_leaf=2, min_samples_split=2, bootstrap=False, total=  59.6s\n",
      "[CV] max_depth=90, n_estimators=377, max_features=auto, min_samples_leaf=2, min_samples_split=5, bootstrap=True \n",
      "[CV]  max_depth=50, n_estimators=311, max_features=auto, min_samples_leaf=2, min_samples_split=2, bootstrap=False, total=  59.1s\n",
      "[CV] max_depth=90, n_estimators=377, max_features=auto, min_samples_leaf=2, min_samples_split=5, bootstrap=True \n",
      "[CV]  max_depth=63, n_estimators=244, max_features=auto, min_samples_leaf=4, min_samples_split=5, bootstrap=True, total=  23.0s\n",
      "[CV] max_depth=76, n_estimators=400, max_features=auto, min_samples_leaf=4, min_samples_split=10, bootstrap=False \n",
      "[CV]  max_depth=90, n_estimators=377, max_features=auto, min_samples_leaf=2, min_samples_split=5, bootstrap=True, total=  47.6s\n",
      "[CV] max_depth=76, n_estimators=400, max_features=auto, min_samples_leaf=4, min_samples_split=10, bootstrap=False \n",
      "[CV]  max_depth=90, n_estimators=377, max_features=auto, min_samples_leaf=2, min_samples_split=5, bootstrap=True, total=  49.2s\n",
      "[CV] max_depth=76, n_estimators=400, max_features=auto, min_samples_leaf=4, min_samples_split=10, bootstrap=False \n",
      "[CV]  max_depth=90, n_estimators=377, max_features=auto, min_samples_leaf=2, min_samples_split=5, bootstrap=True, total=  49.8s\n",
      "[CV] max_depth=None, n_estimators=266, max_features=sqrt, min_samples_leaf=4, min_samples_split=2, bootstrap=True \n",
      "[CV]  max_depth=None, n_estimators=266, max_features=sqrt, min_samples_leaf=4, min_samples_split=2, bootstrap=True, total=   5.5s\n",
      "[CV] max_depth=None, n_estimators=266, max_features=sqrt, min_samples_leaf=4, min_samples_split=2, bootstrap=True \n",
      "[CV]  max_depth=None, n_estimators=266, max_features=sqrt, min_samples_leaf=4, min_samples_split=2, bootstrap=True, total=   6.0s\n",
      "[CV] max_depth=None, n_estimators=266, max_features=sqrt, min_samples_leaf=4, min_samples_split=2, bootstrap=True \n",
      "[CV]  max_depth=None, n_estimators=266, max_features=sqrt, min_samples_leaf=4, min_samples_split=2, bootstrap=True, total=   6.3s\n",
      "[CV] max_depth=63, n_estimators=355, max_features=sqrt, min_samples_leaf=1, min_samples_split=2, bootstrap=True \n",
      "[CV]  max_depth=76, n_estimators=400, max_features=auto, min_samples_leaf=4, min_samples_split=10, bootstrap=False, total= 1.1min\n",
      "[CV] max_depth=63, n_estimators=355, max_features=sqrt, min_samples_leaf=1, min_samples_split=2, bootstrap=True \n",
      "[CV]  max_depth=63, n_estimators=355, max_features=sqrt, min_samples_leaf=1, min_samples_split=2, bootstrap=True, total=   9.6s\n",
      "[CV] max_depth=63, n_estimators=355, max_features=sqrt, min_samples_leaf=1, min_samples_split=2, bootstrap=True \n",
      "[CV]  max_depth=63, n_estimators=355, max_features=sqrt, min_samples_leaf=1, min_samples_split=2, bootstrap=True, total=  10.9s\n",
      "[CV] max_depth=110, n_estimators=400, max_features=sqrt, min_samples_leaf=2, min_samples_split=2, bootstrap=False \n",
      "[CV]  max_depth=63, n_estimators=355, max_features=sqrt, min_samples_leaf=1, min_samples_split=2, bootstrap=True, total=  10.6s\n",
      "[CV] max_depth=110, n_estimators=400, max_features=sqrt, min_samples_leaf=2, min_samples_split=2, bootstrap=False \n",
      "[CV]  max_depth=110, n_estimators=400, max_features=sqrt, min_samples_leaf=2, min_samples_split=2, bootstrap=False, total=  14.5s\n",
      "[CV] max_depth=110, n_estimators=400, max_features=sqrt, min_samples_leaf=2, min_samples_split=2, bootstrap=False \n",
      "[CV]  max_depth=76, n_estimators=400, max_features=auto, min_samples_leaf=4, min_samples_split=10, bootstrap=False, total=  59.1s\n",
      "[CV] max_depth=56, n_estimators=355, max_features=sqrt, min_samples_leaf=2, min_samples_split=10, bootstrap=False \n",
      "[CV]  max_depth=110, n_estimators=400, max_features=sqrt, min_samples_leaf=2, min_samples_split=2, bootstrap=False, total=  14.6s\n",
      "[CV] max_depth=56, n_estimators=355, max_features=sqrt, min_samples_leaf=2, min_samples_split=10, bootstrap=False \n",
      "[CV]  max_depth=76, n_estimators=400, max_features=auto, min_samples_leaf=4, min_samples_split=10, bootstrap=False, total=  59.6s\n",
      "[CV] max_depth=56, n_estimators=355, max_features=sqrt, min_samples_leaf=2, min_samples_split=10, bootstrap=False \n",
      "[CV]  max_depth=56, n_estimators=355, max_features=sqrt, min_samples_leaf=2, min_samples_split=10, bootstrap=False, total=  10.1s\n",
      "[CV] max_depth=76, n_estimators=311, max_features=auto, min_samples_leaf=2, min_samples_split=2, bootstrap=True \n",
      "[CV]  max_depth=110, n_estimators=400, max_features=sqrt, min_samples_leaf=2, min_samples_split=2, bootstrap=False, total=  14.6s\n",
      "[CV] max_depth=76, n_estimators=311, max_features=auto, min_samples_leaf=2, min_samples_split=2, bootstrap=True \n"
     ]
    },
    {
     "name": "stdout",
     "output_type": "stream",
     "text": [
      "[CV]  max_depth=56, n_estimators=355, max_features=sqrt, min_samples_leaf=2, min_samples_split=10, bootstrap=False, total=  11.0s\n",
      "[CV] max_depth=76, n_estimators=311, max_features=auto, min_samples_leaf=2, min_samples_split=2, bootstrap=True \n",
      "[CV]  max_depth=56, n_estimators=355, max_features=sqrt, min_samples_leaf=2, min_samples_split=10, bootstrap=False, total=  10.9s\n",
      "[CV] max_depth=110, n_estimators=377, max_features=sqrt, min_samples_leaf=4, min_samples_split=10, bootstrap=True \n",
      "[CV]  max_depth=110, n_estimators=377, max_features=sqrt, min_samples_leaf=4, min_samples_split=10, bootstrap=True, total=   8.4s\n",
      "[CV] max_depth=110, n_estimators=377, max_features=sqrt, min_samples_leaf=4, min_samples_split=10, bootstrap=True \n",
      "[CV]  max_depth=110, n_estimators=377, max_features=sqrt, min_samples_leaf=4, min_samples_split=10, bootstrap=True, total=   7.6s\n",
      "[CV] max_depth=110, n_estimators=377, max_features=sqrt, min_samples_leaf=4, min_samples_split=10, bootstrap=True \n",
      "[CV]  max_depth=110, n_estimators=377, max_features=sqrt, min_samples_leaf=4, min_samples_split=10, bootstrap=True, total=   6.9s\n",
      "[CV] max_depth=90, n_estimators=288, max_features=auto, min_samples_leaf=2, min_samples_split=2, bootstrap=False \n",
      "[CV]  max_depth=76, n_estimators=311, max_features=auto, min_samples_leaf=2, min_samples_split=2, bootstrap=True, total=  32.6s\n",
      "[CV] max_depth=90, n_estimators=288, max_features=auto, min_samples_leaf=2, min_samples_split=2, bootstrap=False \n",
      "[CV]  max_depth=76, n_estimators=311, max_features=auto, min_samples_leaf=2, min_samples_split=2, bootstrap=True, total=  32.6s\n",
      "[CV] max_depth=90, n_estimators=288, max_features=auto, min_samples_leaf=2, min_samples_split=2, bootstrap=False \n",
      "[CV]  max_depth=76, n_estimators=311, max_features=auto, min_samples_leaf=2, min_samples_split=2, bootstrap=True, total=  32.7s\n",
      "[CV] max_depth=96, n_estimators=377, max_features=auto, min_samples_leaf=4, min_samples_split=10, bootstrap=False \n",
      "[CV]  max_depth=90, n_estimators=288, max_features=auto, min_samples_leaf=2, min_samples_split=2, bootstrap=False, total=  44.6s\n",
      "[CV] max_depth=96, n_estimators=377, max_features=auto, min_samples_leaf=4, min_samples_split=10, bootstrap=False \n",
      "[CV]  max_depth=90, n_estimators=288, max_features=auto, min_samples_leaf=2, min_samples_split=2, bootstrap=False, total=  45.4s\n",
      "[CV] max_depth=96, n_estimators=377, max_features=auto, min_samples_leaf=4, min_samples_split=10, bootstrap=False \n",
      "[CV]  max_depth=90, n_estimators=288, max_features=auto, min_samples_leaf=2, min_samples_split=2, bootstrap=False, total=  47.2s\n",
      "[CV] max_depth=50, n_estimators=377, max_features=sqrt, min_samples_leaf=4, min_samples_split=5, bootstrap=False \n",
      "[CV]  max_depth=96, n_estimators=377, max_features=auto, min_samples_leaf=4, min_samples_split=10, bootstrap=False, total=  50.7s\n",
      "[CV] max_depth=50, n_estimators=377, max_features=sqrt, min_samples_leaf=4, min_samples_split=5, bootstrap=False \n",
      "[CV]  max_depth=50, n_estimators=377, max_features=sqrt, min_samples_leaf=4, min_samples_split=5, bootstrap=False, total=  13.4s\n",
      "[CV] max_depth=50, n_estimators=377, max_features=sqrt, min_samples_leaf=4, min_samples_split=5, bootstrap=False \n",
      "[CV]  max_depth=50, n_estimators=377, max_features=sqrt, min_samples_leaf=4, min_samples_split=5, bootstrap=False, total=  11.0s\n",
      "[CV] max_depth=96, n_estimators=377, max_features=auto, min_samples_leaf=4, min_samples_split=5, bootstrap=True \n",
      "[CV]  max_depth=50, n_estimators=377, max_features=sqrt, min_samples_leaf=4, min_samples_split=5, bootstrap=False, total=  12.0s\n",
      "[CV] max_depth=96, n_estimators=377, max_features=auto, min_samples_leaf=4, min_samples_split=5, bootstrap=True \n",
      "[CV]  max_depth=96, n_estimators=377, max_features=auto, min_samples_leaf=4, min_samples_split=10, bootstrap=False, total=  56.9s\n",
      "[CV] max_depth=96, n_estimators=377, max_features=auto, min_samples_leaf=4, min_samples_split=5, bootstrap=True \n",
      "[CV]  max_depth=96, n_estimators=377, max_features=auto, min_samples_leaf=4, min_samples_split=10, bootstrap=False, total=  54.9s\n",
      "[CV] max_depth=56, n_estimators=400, max_features=sqrt, min_samples_leaf=1, min_samples_split=10, bootstrap=False \n",
      "[CV]  max_depth=96, n_estimators=377, max_features=auto, min_samples_leaf=4, min_samples_split=5, bootstrap=True, total=  36.1s\n",
      "[CV] max_depth=56, n_estimators=400, max_features=sqrt, min_samples_leaf=1, min_samples_split=10, bootstrap=False \n",
      "[CV]  max_depth=96, n_estimators=377, max_features=auto, min_samples_leaf=4, min_samples_split=5, bootstrap=True, total=  35.0s\n",
      "[CV] max_depth=56, n_estimators=400, max_features=sqrt, min_samples_leaf=1, min_samples_split=10, bootstrap=False \n",
      "[CV]  max_depth=56, n_estimators=400, max_features=sqrt, min_samples_leaf=1, min_samples_split=10, bootstrap=False, total=  12.5s\n",
      "[CV] max_depth=63, n_estimators=200, max_features=auto, min_samples_leaf=2, min_samples_split=10, bootstrap=True \n",
      "[CV]  max_depth=56, n_estimators=400, max_features=sqrt, min_samples_leaf=1, min_samples_split=10, bootstrap=False, total=  13.2s\n",
      "[CV] max_depth=63, n_estimators=200, max_features=auto, min_samples_leaf=2, min_samples_split=10, bootstrap=True \n",
      "[CV]  max_depth=56, n_estimators=400, max_features=sqrt, min_samples_leaf=1, min_samples_split=10, bootstrap=False, total=  13.4s\n",
      "[CV] max_depth=63, n_estimators=200, max_features=auto, min_samples_leaf=2, min_samples_split=10, bootstrap=True \n",
      "[CV]  max_depth=63, n_estimators=200, max_features=auto, min_samples_leaf=2, min_samples_split=10, bootstrap=True, total=  20.9s\n",
      "[CV] max_depth=56, n_estimators=333, max_features=auto, min_samples_leaf=1, min_samples_split=5, bootstrap=False \n",
      "[CV]  max_depth=96, n_estimators=377, max_features=auto, min_samples_leaf=4, min_samples_split=5, bootstrap=True, total=  36.5s\n",
      "[CV] max_depth=56, n_estimators=333, max_features=auto, min_samples_leaf=1, min_samples_split=5, bootstrap=False \n",
      "[CV]  max_depth=63, n_estimators=200, max_features=auto, min_samples_leaf=2, min_samples_split=10, bootstrap=True, total=  20.4s\n",
      "[CV] max_depth=56, n_estimators=333, max_features=auto, min_samples_leaf=1, min_samples_split=5, bootstrap=False \n",
      "[CV]  max_depth=63, n_estimators=200, max_features=auto, min_samples_leaf=2, min_samples_split=10, bootstrap=True, total=  19.3s\n",
      "[CV] max_depth=50, n_estimators=333, max_features=sqrt, min_samples_leaf=4, min_samples_split=5, bootstrap=True \n",
      "[CV]  max_depth=50, n_estimators=333, max_features=sqrt, min_samples_leaf=4, min_samples_split=5, bootstrap=True, total=   6.8s\n",
      "[CV] max_depth=50, n_estimators=333, max_features=sqrt, min_samples_leaf=4, min_samples_split=5, bootstrap=True \n",
      "[CV]  max_depth=50, n_estimators=333, max_features=sqrt, min_samples_leaf=4, min_samples_split=5, bootstrap=True, total=   6.2s\n",
      "[CV] max_depth=50, n_estimators=333, max_features=sqrt, min_samples_leaf=4, min_samples_split=5, bootstrap=True \n",
      "[CV]  max_depth=50, n_estimators=333, max_features=sqrt, min_samples_leaf=4, min_samples_split=5, bootstrap=True, total=   7.7s\n",
      "[CV] max_depth=103, n_estimators=200, max_features=auto, min_samples_leaf=2, min_samples_split=10, bootstrap=True \n",
      "[CV]  max_depth=103, n_estimators=200, max_features=auto, min_samples_leaf=2, min_samples_split=10, bootstrap=True, total=  21.0s\n",
      "[CV] max_depth=103, n_estimators=200, max_features=auto, min_samples_leaf=2, min_samples_split=10, bootstrap=True \n",
      "[CV]  max_depth=56, n_estimators=333, max_features=auto, min_samples_leaf=1, min_samples_split=5, bootstrap=False, total= 1.1min\n",
      "[CV] max_depth=103, n_estimators=200, max_features=auto, min_samples_leaf=2, min_samples_split=10, bootstrap=True \n",
      "[CV]  max_depth=56, n_estimators=333, max_features=auto, min_samples_leaf=1, min_samples_split=5, bootstrap=False, total= 1.1min\n",
      "[CV] max_depth=83, n_estimators=288, max_features=auto, min_samples_leaf=1, min_samples_split=2, bootstrap=False \n",
      "[CV]  max_depth=56, n_estimators=333, max_features=auto, min_samples_leaf=1, min_samples_split=5, bootstrap=False, total= 1.1min\n",
      "[CV] max_depth=83, n_estimators=288, max_features=auto, min_samples_leaf=1, min_samples_split=2, bootstrap=False \n",
      "[CV]  max_depth=103, n_estimators=200, max_features=auto, min_samples_leaf=2, min_samples_split=10, bootstrap=True, total=  19.2s\n",
      "[CV] max_depth=83, n_estimators=288, max_features=auto, min_samples_leaf=1, min_samples_split=2, bootstrap=False \n"
     ]
    },
    {
     "name": "stdout",
     "output_type": "stream",
     "text": [
      "[CV]  max_depth=103, n_estimators=200, max_features=auto, min_samples_leaf=2, min_samples_split=10, bootstrap=True, total=  21.2s\n",
      "[CV] max_depth=110, n_estimators=244, max_features=auto, min_samples_leaf=1, min_samples_split=10, bootstrap=False \n",
      "[CV]  max_depth=110, n_estimators=244, max_features=auto, min_samples_leaf=1, min_samples_split=10, bootstrap=False, total=  37.8s\n",
      "[CV] max_depth=110, n_estimators=244, max_features=auto, min_samples_leaf=1, min_samples_split=10, bootstrap=False \n",
      "[CV]  max_depth=83, n_estimators=288, max_features=auto, min_samples_leaf=1, min_samples_split=2, bootstrap=False, total=  57.4s\n",
      "[CV] max_depth=110, n_estimators=244, max_features=auto, min_samples_leaf=1, min_samples_split=10, bootstrap=False \n",
      "[CV]  max_depth=83, n_estimators=288, max_features=auto, min_samples_leaf=1, min_samples_split=2, bootstrap=False, total= 1.0min\n",
      "[CV] max_depth=70, n_estimators=311, max_features=sqrt, min_samples_leaf=1, min_samples_split=10, bootstrap=True \n",
      "[CV]  max_depth=83, n_estimators=288, max_features=auto, min_samples_leaf=1, min_samples_split=2, bootstrap=False, total= 1.0min\n",
      "[CV] max_depth=70, n_estimators=311, max_features=sqrt, min_samples_leaf=1, min_samples_split=10, bootstrap=True \n",
      "[CV]  max_depth=70, n_estimators=311, max_features=sqrt, min_samples_leaf=1, min_samples_split=10, bootstrap=True, total=   8.1s\n",
      "[CV] max_depth=70, n_estimators=311, max_features=sqrt, min_samples_leaf=1, min_samples_split=10, bootstrap=True \n",
      "[CV]  max_depth=70, n_estimators=311, max_features=sqrt, min_samples_leaf=1, min_samples_split=10, bootstrap=True, total=   8.1s\n",
      "[CV]  max_depth=70, n_estimators=311, max_features=sqrt, min_samples_leaf=1, min_samples_split=10, bootstrap=True, total=   7.2s\n",
      "[CV]  max_depth=110, n_estimators=244, max_features=auto, min_samples_leaf=1, min_samples_split=10, bootstrap=False, total=  31.0s\n",
      "[CV]  max_depth=110, n_estimators=244, max_features=auto, min_samples_leaf=1, min_samples_split=10, bootstrap=False, total=  35.9s\n"
     ]
    },
    {
     "name": "stderr",
     "output_type": "stream",
     "text": [
      "[Parallel(n_jobs=-1)]: Done 300 out of 300 | elapsed: 47.9min finished\n"
     ]
    },
    {
     "data": {
      "text/plain": [
       "RandomizedSearchCV(cv=3, error_score='raise',\n",
       "          estimator=RandomForestRegressor(bootstrap=True, criterion='mse', max_depth=None,\n",
       "           max_features='auto', max_leaf_nodes=None,\n",
       "           min_impurity_decrease=0.0, min_impurity_split=None,\n",
       "           min_samples_leaf=1, min_samples_split=2,\n",
       "           min_weight_fraction_leaf=0.0, n_estimators=10, n_jobs=1,\n",
       "           oob_score=False, random_state=None, verbose=0, warm_start=False),\n",
       "          fit_params=None, iid=True, n_iter=100, n_jobs=-1,\n",
       "          param_distributions={'max_depth': [50, 56, 63, 70, 76, 83, 90, 96, 103, 110, None], 'n_estimators': [200, 222, 244, 266, 288, 311, 333, 355, 377, 400], 'max_features': ['auto', 'sqrt'], 'min_samples_leaf': [1, 2, 4], 'min_samples_split': [2, 5, 10], 'bootstrap': [True, False]},\n",
       "          pre_dispatch='2*n_jobs', random_state=42, refit=True,\n",
       "          return_train_score='warn', scoring=None, verbose=2)"
      ]
     },
     "execution_count": 13,
     "metadata": {},
     "output_type": "execute_result"
    }
   ],
   "source": [
    "# Use the random grid to search for best hyperparameters\n",
    "# First create the base model to tune\n",
    "rf = RandomForestRegressor()\n",
    "# Random search of parameters, using 3 fold cross validation, \n",
    "# search across 100 different combinations, and use all available cores\n",
    "rf_random = RandomizedSearchCV(estimator = rf, param_distributions = random_grid, n_iter = 100, cv = 3, verbose=2, random_state=42, n_jobs = -1)\n",
    "# Fit the random search model\n",
    "rf_random.fit(X,Y)"
   ]
  },
  {
   "cell_type": "code",
   "execution_count": 14,
   "metadata": {},
   "outputs": [
    {
     "data": {
      "text/plain": [
       "{'bootstrap': True,\n",
       " 'max_depth': 90,\n",
       " 'max_features': 'auto',\n",
       " 'min_samples_leaf': 2,\n",
       " 'min_samples_split': 5,\n",
       " 'n_estimators': 377}"
      ]
     },
     "execution_count": 14,
     "metadata": {},
     "output_type": "execute_result"
    }
   ],
   "source": [
    "rf_random.best_params_"
   ]
  },
  {
   "cell_type": "code",
   "execution_count": 15,
   "metadata": {},
   "outputs": [
    {
     "ename": "NameError",
     "evalue": "name 'evaluate' is not defined",
     "output_type": "error",
     "traceback": [
      "\u001b[0;31m---------------------------------------\u001b[0m",
      "\u001b[0;31mNameError\u001b[0mTraceback (most recent call last)",
      "\u001b[0;32m<ipython-input-15-48a279e9197a>\u001b[0m in \u001b[0;36m<module>\u001b[0;34m\u001b[0m\n\u001b[1;32m      1\u001b[0m \u001b[0mbest_random\u001b[0m \u001b[0;34m=\u001b[0m \u001b[0mrf_random\u001b[0m\u001b[0;34m.\u001b[0m\u001b[0mbest_estimator_\u001b[0m\u001b[0;34m\u001b[0m\u001b[0m\n\u001b[0;32m----> 2\u001b[0;31m \u001b[0mrandom_accuracy\u001b[0m \u001b[0;34m=\u001b[0m \u001b[0mevaluate\u001b[0m\u001b[0;34m(\u001b[0m\u001b[0mbest_random\u001b[0m\u001b[0;34m,\u001b[0m \u001b[0mX_test\u001b[0m\u001b[0;34m,\u001b[0m \u001b[0mY_test\u001b[0m\u001b[0;34m)\u001b[0m\u001b[0;34m\u001b[0m\u001b[0m\n\u001b[0m",
      "\u001b[0;31mNameError\u001b[0m: name 'evaluate' is not defined"
     ]
    }
   ],
   "source": [
    "best_random = rf_random.best_estimator_\n",
    "random_accuracy = evaluate(best_random, X_test, Y_test)"
   ]
  },
  {
   "cell_type": "code",
   "execution_count": 16,
   "metadata": {},
   "outputs": [],
   "source": [
    "def model_test(model, X_train, Y_train, X_test, Y_test):\n",
    "    model.fit(X_train, Y_train)\n",
    "    test_pred = model.predict(X_test)\n",
    "    train_pred = model.predict(X_train)\n",
    "    mae_error_test = mean_absolute_error(Y_test, test_pred)\n",
    "    mae_error_train = mean_absolute_error(Y_train, train_pred)\n",
    "    r2_test = r2_score(Y_test, test_pred)\n",
    "    r2_train = r2_score(Y_train, train_pred)\n",
    "    return (mae_error_test, mae_error_train, r2_test, r2_train)"
   ]
  },
  {
   "cell_type": "code",
   "execution_count": 17,
   "metadata": {},
   "outputs": [
    {
     "name": "stderr",
     "output_type": "stream",
     "text": [
      "/home/shubham/.local/lib/python3.5/site-packages/xgboost/core.py:587: FutureWarning: Series.base is deprecated and will be removed in a future version\n",
      "  if getattr(data, 'base', None) is not None and \\\n"
     ]
    },
    {
     "name": "stdout",
     "output_type": "stream",
     "text": [
      "[02:44:36] WARNING: /workspace/src/objective/regression_obj.cu:152: reg:linear is now deprecated in favor of reg:squarederror.\n"
     ]
    }
   ],
   "source": [
    "from sklearn.linear_model import Lasso\n",
    "from sklearn.linear_model import Ridge\n",
    "from sklearn.linear_model import LinearRegression\n",
    "from sklearn.linear_model import BayesianRidge\n",
    "from sklearn.svm import SVR\n",
    "from sklearn.tree import DecisionTreeRegressor\n",
    "from sklearn.ensemble import AdaBoostRegressor\n",
    "from sklearn.ensemble import RandomForestRegressor\n",
    "from xgboost import XGBRegressor\n",
    "\n",
    "model_list = ['Lasso', 'Ridge', 'LinearRegression', 'BayesianRidge', 'SVM', 'Decision Tree', 'AdaBoost', 'RandomForest', 'XGboost']\n",
    "models = [Lasso(), Ridge(), LinearRegression(), BayesianRidge(), SVR(), DecisionTreeRegressor(), AdaBoostRegressor(), RandomForestRegressor(), XGBRegressor()]\n",
    "\n",
    "accuracy_dict = {}\n",
    "\n",
    "for mod, mod_name in zip(models, model_list):\n",
    "    accuracy_dict[mod_name] = model_test(mod, X_train, Y_train, X_test, Y_test)"
   ]
  },
  {
   "cell_type": "markdown",
   "metadata": {},
   "source": [
    "### Lasso"
   ]
  },
  {
   "cell_type": "code",
   "execution_count": 18,
   "metadata": {},
   "outputs": [
    {
     "name": "stdout",
     "output_type": "stream",
     "text": [
      "MAE on test: 3956.5383734963966\n",
      "R2 on test: 0.16496417179744283\n",
      "R2 on train: 0.17000951579625523\n"
     ]
    }
   ],
   "source": [
    "from sklearn.linear_model import Lasso\n",
    "from sklearn.metrics import mean_absolute_error, r2_score\n",
    "model = Lasso()\n",
    "model.fit(X_train, Y_train)\n",
    "test_pred = model.predict(X_test)\n",
    "train_pred = model.predict(X_train)\n",
    "print(\"MAE on test: \" + str(mean_absolute_error(Y_test,test_pred)))\n",
    "print(\"R2 on test: \" + str(r2_score(Y_test, test_pred)))\n",
    "print(\"R2 on train: \" + str(r2_score(Y_train, train_pred)))"
   ]
  },
  {
   "cell_type": "markdown",
   "metadata": {},
   "source": [
    "### Ridge Regression"
   ]
  },
  {
   "cell_type": "code",
   "execution_count": 19,
   "metadata": {},
   "outputs": [
    {
     "name": "stdout",
     "output_type": "stream",
     "text": [
      "MAE on test: 3958.7340732416164\n",
      "R2 on test: 0.16423721923564727\n",
      "R2 on train: 0.17003358180314276\n"
     ]
    }
   ],
   "source": [
    "from sklearn.linear_model import Ridge\n",
    "model = Ridge()\n",
    "model.fit(X_train, Y_train)\n",
    "test_pred = model.predict(X_test)\n",
    "train_pred = model.predict(X_train)\n",
    "print(\"MAE on test: \" + str(mean_absolute_error(Y_test,test_pred)))\n",
    "print(\"R2 on test: \" + str(r2_score(Y_test, test_pred)))\n",
    "print(\"R2 on train: \" + str(r2_score(Y_train, train_pred)))"
   ]
  },
  {
   "cell_type": "markdown",
   "metadata": {},
   "source": [
    "### Linear Regression"
   ]
  },
  {
   "cell_type": "code",
   "execution_count": 20,
   "metadata": {},
   "outputs": [
    {
     "name": "stdout",
     "output_type": "stream",
     "text": [
      "MAE on test: 3954.466692324141\n",
      "R2 on test: 0.16444985929754097\n",
      "R2 on train: 0.1692519421810329\n"
     ]
    }
   ],
   "source": [
    "from sklearn.linear_model import LinearRegression\n",
    "model = LinearRegression()\n",
    "model.fit(X_train, Y_train)\n",
    "test_pred = model.predict(X_test)\n",
    "train_pred = model.predict(X_train)\n",
    "print(\"MAE on test: \" + str(mean_absolute_error(Y_test,test_pred)))\n",
    "print(\"R2 on test: \" + str(r2_score(Y_test, test_pred)))\n",
    "print(\"R2 on train: \" + str(r2_score(Y_train, train_pred)))"
   ]
  },
  {
   "cell_type": "markdown",
   "metadata": {},
   "source": [
    "### BayesianRidge"
   ]
  },
  {
   "cell_type": "code",
   "execution_count": 21,
   "metadata": {},
   "outputs": [
    {
     "name": "stdout",
     "output_type": "stream",
     "text": [
      "MAE on test: 3963.824322495\n",
      "R2 on test: 0.16325988596111718\n",
      "R2 on train: 0.16912765577649025\n"
     ]
    }
   ],
   "source": [
    "from sklearn.linear_model import BayesianRidge\n",
    "model = BayesianRidge()\n",
    "model.fit(X_train, Y_train)\n",
    "test_pred = model.predict(X_test)\n",
    "train_pred = model.predict(X_train)\n",
    "print(\"MAE on test: \" + str(mean_absolute_error(Y_test,test_pred)))\n",
    "print(\"R2 on test: \" + str(r2_score(Y_test, test_pred)))\n",
    "print(\"R2 on train: \" + str(r2_score(Y_train, train_pred)))"
   ]
  },
  {
   "cell_type": "markdown",
   "metadata": {},
   "source": [
    "### SVM"
   ]
  },
  {
   "cell_type": "code",
   "execution_count": 22,
   "metadata": {},
   "outputs": [
    {
     "name": "stdout",
     "output_type": "stream",
     "text": [
      "MAE on test: 4152.785649308097\n",
      "R2 on test: -0.10485311912077866\n",
      "R2 on train: -0.10104694428972416\n"
     ]
    }
   ],
   "source": [
    "from sklearn import svm\n",
    "model = svm.SVR()\n",
    "model.fit(X_train, Y_train)\n",
    "test_pred = model.predict(X_test)\n",
    "train_pred = model.predict(X_train)\n",
    "print(\"MAE on test: \" + str(mean_absolute_error(Y_test,test_pred)))\n",
    "print(\"R2 on test: \" + str(r2_score(Y_test, test_pred)))\n",
    "print(\"R2 on train: \" + str(r2_score(Y_train, train_pred)))"
   ]
  },
  {
   "cell_type": "markdown",
   "metadata": {},
   "source": [
    "### Decision Tree"
   ]
  },
  {
   "cell_type": "code",
   "execution_count": 23,
   "metadata": {},
   "outputs": [
    {
     "name": "stdout",
     "output_type": "stream",
     "text": [
      "MAE on test: 1845.003701476738\n",
      "R2 on test: 0.4299454900499363\n",
      "R2 on train: 1.0\n"
     ]
    }
   ],
   "source": [
    "from sklearn import tree\n",
    "model = tree.DecisionTreeRegressor()\n",
    "model.fit(X_train, Y_train)\n",
    "test_pred = model.predict(X_test)\n",
    "train_pred = model.predict(X_train)\n",
    "print(\"MAE on test: \" + str(mean_absolute_error(Y_test,test_pred)))\n",
    "print(\"R2 on test: \" + str(r2_score(Y_test, test_pred)))\n",
    "print(\"R2 on train: \" + str(r2_score(Y_train, train_pred)))"
   ]
  },
  {
   "cell_type": "markdown",
   "metadata": {},
   "source": [
    "### AdaBoost"
   ]
  },
  {
   "cell_type": "code",
   "execution_count": 24,
   "metadata": {},
   "outputs": [
    {
     "name": "stdout",
     "output_type": "stream",
     "text": [
      "MAE on test: 2596.9207085819617\n",
      "R2 on test: 0.5834600837990805\n",
      "R2 on train: 0.6016132709149855\n"
     ]
    }
   ],
   "source": [
    "from sklearn.ensemble import AdaBoostRegressor\n",
    "model = AdaBoostRegressor(n_estimators = 15)  # Near optimal value: 15 ; falls sharply after 20\n",
    "model.fit(X_train, Y_train)\n",
    "test_pred = model.predict(X_test)\n",
    "train_pred = model.predict(X_train)\n",
    "print(\"MAE on test: \" + str(mean_absolute_error(Y_test,test_pred)))\n",
    "print(\"R2 on test: \" + str(r2_score(Y_test, test_pred)))\n",
    "print(\"R2 on train: \" + str(r2_score(Y_train, train_pred)))"
   ]
  },
  {
   "cell_type": "markdown",
   "metadata": {},
   "source": [
    "### Random Forest"
   ]
  },
  {
   "cell_type": "code",
   "execution_count": 25,
   "metadata": {},
   "outputs": [
    {
     "name": "stdout",
     "output_type": "stream",
     "text": [
      "MAE on test: 1568.15153290509\n",
      "R2 on test: 0.6972692779799139\n",
      "R2 on train: 0.9564801093343737\n"
     ]
    }
   ],
   "source": [
    "from sklearn.ensemble import RandomForestRegressor\n",
    "model = RandomForestRegressor(n_estimators = 50)\n",
    "model.fit(X_train, Y_train)\n",
    "test_pred = model.predict(X_test)\n",
    "train_pred = model.predict(X_train)\n",
    "print(\"MAE on test: \" + str(mean_absolute_error(Y_test,test_pred)))\n",
    "print(\"R2 on test: \" + str(r2_score(Y_test, test_pred)))\n",
    "print(\"R2 on train: \" + str(r2_score(Y_train, train_pred)))"
   ]
  },
  {
   "cell_type": "markdown",
   "metadata": {},
   "source": [
    "### Clustering"
   ]
  },
  {
   "cell_type": "code",
   "execution_count": 26,
   "metadata": {},
   "outputs": [
    {
     "name": "stdout",
     "output_type": "stream",
     "text": [
      "Accuracy: 95.95%\n"
     ]
    },
    {
     "name": "stderr",
     "output_type": "stream",
     "text": [
      "/home/shubham/.local/lib/python3.5/site-packages/sklearn/preprocessing/label.py:151: DeprecationWarning: The truth value of an empty array is ambiguous. Returning False, but in future this will result in an error. Use `array.size > 0` to check that an array is not empty.\n",
      "  if diff:\n"
     ]
    },
    {
     "data": {
      "text/plain": [
       "<matplotlib.axes._subplots.AxesSubplot at 0x7f95f775bbe0>"
      ]
     },
     "execution_count": 26,
     "metadata": {},
     "output_type": "execute_result"
    },
    {
     "data": {
      "image/png": "[encoded data removed]",
      "text/plain": [
       "<Figure size 432x288 with 1 Axes>"
      ]
     },
     "metadata": {
      "needs_background": "light"
     },
     "output_type": "display_data"
    }
   ],
   "source": [
    "data_c = data.copy()\n",
    "data_c = data_c.sort_values('Customer Lifetime Value')\n",
    "data_c['labels'] = -1\n",
    "for idx, i in enumerate(data_c.index.tolist()):\n",
    "    if( int(idx/(int(data_c.shape[0]/3))) < 2):\n",
    "        data_c.loc[i,'labels'] = 0\n",
    "    else:\n",
    "        data_c.loc[i,'labels'] = 1\n",
    "data_c.drop(['Customer Lifetime Value'], axis=1, inplace=True)\n",
    "X_clas = data_c.drop(['labels'], axis=1)\n",
    "Y_clas = data_c.labels\n",
    "# split data into train and test sets\n",
    "seed = 7\n",
    "test_size = 0.2\n",
    "X_train, X_test, y_train, y_test = train_test_split(X_clas, Y_clas, test_size=test_size, random_state=seed)\n",
    "from xgboost import XGBClassifier\n",
    "# fit model no training data\n",
    "model = XGBClassifier()\n",
    "model.fit(X_train, y_train)\n",
    "# make predictions for test data\n",
    "y_pred = model.predict(X_test)\n",
    "predictions = [round(value) for value in y_pred]\n",
    "\n",
    "from sklearn.metrics import accuracy_score# evaluate predictions\n",
    "accuracy = accuracy_score(y_test, predictions)\n",
    "print(\"Accuracy: %.2f%%\" % (accuracy * 100.0))\n",
    "\n",
    "from xgboost import plot_importance\n",
    "plot_importance(model, max_num_features=20)"
   ]
  },
  {
   "cell_type": "code",
   "execution_count": 27,
   "metadata": {},
   "outputs": [
    {
     "data": {
      "text/plain": [
       "0.4269674514585871"
      ]
     },
     "execution_count": 27,
     "metadata": {},
     "output_type": "execute_result"
    }
   ],
   "source": [
    "( (data_c.groupby('labels')['Months Since Last Claim'].mean()[1])*(data['Months Since Last Claim'].max() - data['Months Since Last Claim'].min())) + (data['Months Since Last Claim'].min()) "
   ]
  },
  {
   "cell_type": "code",
   "execution_count": null,
   "metadata": {},
   "outputs": [],
   "source": []
  }
 ],
 "metadata": {
  "kernelspec": {
   "display_name": "Python 3",
   "language": "python",
   "name": "python3"
  },
  "language_info": {
   "codemirror_mode": {
    "name": "ipython",
    "version": 3
   },
   "file_extension": ".py",
   "mimetype": "text/x-python",
   "name": "python",
   "nbconvert_exporter": "python",
   "pygments_lexer": "ipython3",
   "version": "3.5.2"
  }
 },
 "nbformat": 4,
 "nbformat_minor": 2
}
